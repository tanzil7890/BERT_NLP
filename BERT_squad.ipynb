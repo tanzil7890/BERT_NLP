{
 "cells": [
  {
   "cell_type": "markdown",
   "metadata": {
    "colab_type": "text",
    "id": "view-in-github"
   },
   "source": [
    "<a href=\"https://colab.research.google.com/github/gk19989/NLP/blob/main/BERT_squad.ipynb\" target=\"_parent\"><img src=\"https://colab.research.google.com/assets/colab-badge.svg\" alt=\"Open In Colab\"/></a>"
   ]
  },
  {
   "cell_type": "markdown",
   "metadata": {
    "id": "iPzELwCeXea1"
   },
   "source": [
    "# Stage 1: Importing dependencies"
   ]
  },
  {
   "cell_type": "code",
   "execution_count": 1,
   "metadata": {
    "colab": {
     "base_uri": "https://localhost:8080/"
    },
    "id": "SsBRKwbfTV88",
    "outputId": "5ca424b9-2d32-403e-f439-37a06663f048"
   },
   "outputs": [
    {
     "name": "stdout",
     "output_type": "stream",
     "text": [
      "Collecting tf-models-official\n",
      "  Downloading tf_models_official-2.6.0-py2.py3-none-any.whl (1.8 MB)\n",
      "\u001b[K     |████████████████████████████████| 1.8 MB 5.5 MB/s \n",
      "\u001b[?25hRequirement already satisfied: gin-config in /usr/local/lib/python3.7/dist-packages (from tf-models-official) (0.4.0)\n",
      "Requirement already satisfied: numpy>=1.15.4 in /usr/local/lib/python3.7/dist-packages (from tf-models-official) (1.19.5)\n",
      "Requirement already satisfied: pandas>=0.22.0 in /usr/local/lib/python3.7/dist-packages (from tf-models-official) (1.1.5)\n",
      "Collecting pyyaml>=5.1\n",
      "  Downloading PyYAML-6.0-cp37-cp37m-manylinux_2_5_x86_64.manylinux1_x86_64.manylinux_2_12_x86_64.manylinux2010_x86_64.whl (596 kB)\n",
      "\u001b[K     |████████████████████████████████| 596 kB 48.3 MB/s \n",
      "\u001b[?25hCollecting tf-slim>=1.1.0\n",
      "  Downloading tf_slim-1.1.0-py2.py3-none-any.whl (352 kB)\n",
      "\u001b[K     |████████████████████████████████| 352 kB 48.8 MB/s \n",
      "\u001b[?25hCollecting sacrebleu\n",
      "  Downloading sacrebleu-2.0.0-py3-none-any.whl (90 kB)\n",
      "\u001b[K     |████████████████████████████████| 90 kB 5.8 MB/s \n",
      "\u001b[?25hRequirement already satisfied: psutil>=5.4.3 in /usr/local/lib/python3.7/dist-packages (from tf-models-official) (5.4.8)\n",
      "Requirement already satisfied: matplotlib in /usr/local/lib/python3.7/dist-packages (from tf-models-official) (3.2.2)\n",
      "Requirement already satisfied: tensorflow>=2.5.0 in /usr/local/lib/python3.7/dist-packages (from tf-models-official) (2.6.0)\n",
      "Collecting sentencepiece\n",
      "  Downloading sentencepiece-0.1.96-cp37-cp37m-manylinux_2_17_x86_64.manylinux2014_x86_64.whl (1.2 MB)\n",
      "\u001b[K     |████████████████████████████████| 1.2 MB 27.3 MB/s \n",
      "\u001b[?25hRequirement already satisfied: tensorflow-hub>=0.6.0 in /usr/local/lib/python3.7/dist-packages (from tf-models-official) (0.12.0)\n",
      "Collecting tensorflow-model-optimization>=0.4.1\n",
      "  Downloading tensorflow_model_optimization-0.7.0-py2.py3-none-any.whl (213 kB)\n",
      "\u001b[K     |████████████████████████████████| 213 kB 53.4 MB/s \n",
      "\u001b[?25hRequirement already satisfied: tensorflow-datasets in /usr/local/lib/python3.7/dist-packages (from tf-models-official) (4.0.1)\n",
      "Requirement already satisfied: google-api-python-client>=1.6.7 in /usr/local/lib/python3.7/dist-packages (from tf-models-official) (1.12.8)\n",
      "Collecting seqeval\n",
      "  Downloading seqeval-1.2.2.tar.gz (43 kB)\n",
      "\u001b[K     |████████████████████████████████| 43 kB 1.5 MB/s \n",
      "\u001b[?25hCollecting py-cpuinfo>=3.3.0\n",
      "  Downloading py-cpuinfo-8.0.0.tar.gz (99 kB)\n",
      "\u001b[K     |████████████████████████████████| 99 kB 5.2 MB/s \n",
      "\u001b[?25hRequirement already satisfied: kaggle>=1.3.9 in /usr/local/lib/python3.7/dist-packages (from tf-models-official) (1.5.12)\n",
      "Requirement already satisfied: six in /usr/local/lib/python3.7/dist-packages (from tf-models-official) (1.15.0)\n",
      "Requirement already satisfied: Pillow in /usr/local/lib/python3.7/dist-packages (from tf-models-official) (7.1.2)\n",
      "Requirement already satisfied: scipy>=0.19.1 in /usr/local/lib/python3.7/dist-packages (from tf-models-official) (1.4.1)\n",
      "Requirement already satisfied: Cython in /usr/local/lib/python3.7/dist-packages (from tf-models-official) (0.29.24)\n",
      "Requirement already satisfied: pycocotools in /usr/local/lib/python3.7/dist-packages (from tf-models-official) (2.0.2)\n",
      "Requirement already satisfied: oauth2client in /usr/local/lib/python3.7/dist-packages (from tf-models-official) (4.1.3)\n",
      "Collecting tensorflow-addons\n",
      "  Downloading tensorflow_addons-0.14.0-cp37-cp37m-manylinux_2_12_x86_64.manylinux2010_x86_64.whl (1.1 MB)\n",
      "\u001b[K     |████████████████████████████████| 1.1 MB 46.8 MB/s \n",
      "\u001b[?25hCollecting opencv-python-headless\n",
      "  Downloading opencv_python_headless-4.5.4.58-cp37-cp37m-manylinux2014_x86_64.whl (47.6 MB)\n",
      "\u001b[K     |████████████████████████████████| 47.6 MB 35 kB/s \n",
      "\u001b[?25hCollecting tensorflow-text>=2.5.0\n",
      "  Downloading tensorflow_text-2.6.0-cp37-cp37m-manylinux1_x86_64.whl (4.4 MB)\n",
      "\u001b[K     |████████████████████████████████| 4.4 MB 46.9 MB/s \n",
      "\u001b[?25hRequirement already satisfied: google-api-core<2dev,>=1.21.0 in /usr/local/lib/python3.7/dist-packages (from google-api-python-client>=1.6.7->tf-models-official) (1.26.3)\n",
      "Requirement already satisfied: uritemplate<4dev,>=3.0.0 in /usr/local/lib/python3.7/dist-packages (from google-api-python-client>=1.6.7->tf-models-official) (3.0.1)\n",
      "Requirement already satisfied: httplib2<1dev,>=0.15.0 in /usr/local/lib/python3.7/dist-packages (from google-api-python-client>=1.6.7->tf-models-official) (0.17.4)\n",
      "Requirement already satisfied: google-auth-httplib2>=0.0.3 in /usr/local/lib/python3.7/dist-packages (from google-api-python-client>=1.6.7->tf-models-official) (0.0.4)\n",
      "Requirement already satisfied: google-auth>=1.16.0 in /usr/local/lib/python3.7/dist-packages (from google-api-python-client>=1.6.7->tf-models-official) (1.35.0)\n",
      "Requirement already satisfied: protobuf>=3.12.0 in /usr/local/lib/python3.7/dist-packages (from google-api-core<2dev,>=1.21.0->google-api-python-client>=1.6.7->tf-models-official) (3.17.3)\n",
      "Requirement already satisfied: setuptools>=40.3.0 in /usr/local/lib/python3.7/dist-packages (from google-api-core<2dev,>=1.21.0->google-api-python-client>=1.6.7->tf-models-official) (57.4.0)\n",
      "Requirement already satisfied: googleapis-common-protos<2.0dev,>=1.6.0 in /usr/local/lib/python3.7/dist-packages (from google-api-core<2dev,>=1.21.0->google-api-python-client>=1.6.7->tf-models-official) (1.53.0)\n",
      "Requirement already satisfied: requests<3.0.0dev,>=2.18.0 in /usr/local/lib/python3.7/dist-packages (from google-api-core<2dev,>=1.21.0->google-api-python-client>=1.6.7->tf-models-official) (2.23.0)\n",
      "Requirement already satisfied: packaging>=14.3 in /usr/local/lib/python3.7/dist-packages (from google-api-core<2dev,>=1.21.0->google-api-python-client>=1.6.7->tf-models-official) (21.0)\n",
      "Requirement already satisfied: pytz in /usr/local/lib/python3.7/dist-packages (from google-api-core<2dev,>=1.21.0->google-api-python-client>=1.6.7->tf-models-official) (2018.9)\n",
      "Requirement already satisfied: pyasn1-modules>=0.2.1 in /usr/local/lib/python3.7/dist-packages (from google-auth>=1.16.0->google-api-python-client>=1.6.7->tf-models-official) (0.2.8)\n",
      "Requirement already satisfied: rsa<5,>=3.1.4 in /usr/local/lib/python3.7/dist-packages (from google-auth>=1.16.0->google-api-python-client>=1.6.7->tf-models-official) (4.7.2)\n",
      "Requirement already satisfied: cachetools<5.0,>=2.0.0 in /usr/local/lib/python3.7/dist-packages (from google-auth>=1.16.0->google-api-python-client>=1.6.7->tf-models-official) (4.2.4)\n",
      "Requirement already satisfied: urllib3 in /usr/local/lib/python3.7/dist-packages (from kaggle>=1.3.9->tf-models-official) (1.24.3)\n",
      "Requirement already satisfied: python-slugify in /usr/local/lib/python3.7/dist-packages (from kaggle>=1.3.9->tf-models-official) (5.0.2)\n",
      "Requirement already satisfied: certifi in /usr/local/lib/python3.7/dist-packages (from kaggle>=1.3.9->tf-models-official) (2021.5.30)\n",
      "Requirement already satisfied: tqdm in /usr/local/lib/python3.7/dist-packages (from kaggle>=1.3.9->tf-models-official) (4.62.3)\n",
      "Requirement already satisfied: python-dateutil in /usr/local/lib/python3.7/dist-packages (from kaggle>=1.3.9->tf-models-official) (2.8.2)\n",
      "Requirement already satisfied: pyparsing>=2.0.2 in /usr/local/lib/python3.7/dist-packages (from packaging>=14.3->google-api-core<2dev,>=1.21.0->google-api-python-client>=1.6.7->tf-models-official) (2.4.7)\n",
      "Requirement already satisfied: pyasn1<0.5.0,>=0.4.6 in /usr/local/lib/python3.7/dist-packages (from pyasn1-modules>=0.2.1->google-auth>=1.16.0->google-api-python-client>=1.6.7->tf-models-official) (0.4.8)\n",
      "Requirement already satisfied: chardet<4,>=3.0.2 in /usr/local/lib/python3.7/dist-packages (from requests<3.0.0dev,>=2.18.0->google-api-core<2dev,>=1.21.0->google-api-python-client>=1.6.7->tf-models-official) (3.0.4)\n",
      "Requirement already satisfied: idna<3,>=2.5 in /usr/local/lib/python3.7/dist-packages (from requests<3.0.0dev,>=2.18.0->google-api-core<2dev,>=1.21.0->google-api-python-client>=1.6.7->tf-models-official) (2.10)\n",
      "Requirement already satisfied: astunparse~=1.6.3 in /usr/local/lib/python3.7/dist-packages (from tensorflow>=2.5.0->tf-models-official) (1.6.3)\n",
      "Requirement already satisfied: h5py~=3.1.0 in /usr/local/lib/python3.7/dist-packages (from tensorflow>=2.5.0->tf-models-official) (3.1.0)\n",
      "Requirement already satisfied: flatbuffers~=1.12.0 in /usr/local/lib/python3.7/dist-packages (from tensorflow>=2.5.0->tf-models-official) (1.12)\n",
      "Requirement already satisfied: tensorboard~=2.6 in /usr/local/lib/python3.7/dist-packages (from tensorflow>=2.5.0->tf-models-official) (2.6.0)\n",
      "Requirement already satisfied: gast==0.4.0 in /usr/local/lib/python3.7/dist-packages (from tensorflow>=2.5.0->tf-models-official) (0.4.0)\n",
      "Requirement already satisfied: opt-einsum~=3.3.0 in /usr/local/lib/python3.7/dist-packages (from tensorflow>=2.5.0->tf-models-official) (3.3.0)\n",
      "Requirement already satisfied: tensorflow-estimator~=2.6 in /usr/local/lib/python3.7/dist-packages (from tensorflow>=2.5.0->tf-models-official) (2.6.0)\n",
      "Requirement already satisfied: google-pasta~=0.2 in /usr/local/lib/python3.7/dist-packages (from tensorflow>=2.5.0->tf-models-official) (0.2.0)\n",
      "Requirement already satisfied: wrapt~=1.12.1 in /usr/local/lib/python3.7/dist-packages (from tensorflow>=2.5.0->tf-models-official) (1.12.1)\n",
      "Requirement already satisfied: typing-extensions~=3.7.4 in /usr/local/lib/python3.7/dist-packages (from tensorflow>=2.5.0->tf-models-official) (3.7.4.3)\n",
      "Requirement already satisfied: absl-py~=0.10 in /usr/local/lib/python3.7/dist-packages (from tensorflow>=2.5.0->tf-models-official) (0.12.0)\n",
      "Requirement already satisfied: clang~=5.0 in /usr/local/lib/python3.7/dist-packages (from tensorflow>=2.5.0->tf-models-official) (5.0)\n",
      "Requirement already satisfied: keras-preprocessing~=1.1.2 in /usr/local/lib/python3.7/dist-packages (from tensorflow>=2.5.0->tf-models-official) (1.1.2)\n",
      "Requirement already satisfied: termcolor~=1.1.0 in /usr/local/lib/python3.7/dist-packages (from tensorflow>=2.5.0->tf-models-official) (1.1.0)\n",
      "Requirement already satisfied: grpcio<2.0,>=1.37.0 in /usr/local/lib/python3.7/dist-packages (from tensorflow>=2.5.0->tf-models-official) (1.41.0)\n",
      "Requirement already satisfied: wheel~=0.35 in /usr/local/lib/python3.7/dist-packages (from tensorflow>=2.5.0->tf-models-official) (0.37.0)\n",
      "Requirement already satisfied: keras~=2.6 in /usr/local/lib/python3.7/dist-packages (from tensorflow>=2.5.0->tf-models-official) (2.6.0)\n",
      "Requirement already satisfied: cached-property in /usr/local/lib/python3.7/dist-packages (from h5py~=3.1.0->tensorflow>=2.5.0->tf-models-official) (1.5.2)\n",
      "Requirement already satisfied: tensorboard-plugin-wit>=1.6.0 in /usr/local/lib/python3.7/dist-packages (from tensorboard~=2.6->tensorflow>=2.5.0->tf-models-official) (1.8.0)\n",
      "Requirement already satisfied: markdown>=2.6.8 in /usr/local/lib/python3.7/dist-packages (from tensorboard~=2.6->tensorflow>=2.5.0->tf-models-official) (3.3.4)\n",
      "Requirement already satisfied: google-auth-oauthlib<0.5,>=0.4.1 in /usr/local/lib/python3.7/dist-packages (from tensorboard~=2.6->tensorflow>=2.5.0->tf-models-official) (0.4.6)\n",
      "Requirement already satisfied: tensorboard-data-server<0.7.0,>=0.6.0 in /usr/local/lib/python3.7/dist-packages (from tensorboard~=2.6->tensorflow>=2.5.0->tf-models-official) (0.6.1)\n",
      "Requirement already satisfied: werkzeug>=0.11.15 in /usr/local/lib/python3.7/dist-packages (from tensorboard~=2.6->tensorflow>=2.5.0->tf-models-official) (1.0.1)\n",
      "Requirement already satisfied: requests-oauthlib>=0.7.0 in /usr/local/lib/python3.7/dist-packages (from google-auth-oauthlib<0.5,>=0.4.1->tensorboard~=2.6->tensorflow>=2.5.0->tf-models-official) (1.3.0)\n",
      "Requirement already satisfied: importlib-metadata in /usr/local/lib/python3.7/dist-packages (from markdown>=2.6.8->tensorboard~=2.6->tensorflow>=2.5.0->tf-models-official) (4.8.1)\n",
      "Requirement already satisfied: oauthlib>=3.0.0 in /usr/local/lib/python3.7/dist-packages (from requests-oauthlib>=0.7.0->google-auth-oauthlib<0.5,>=0.4.1->tensorboard~=2.6->tensorflow>=2.5.0->tf-models-official) (3.1.1)\n",
      "Requirement already satisfied: dm-tree~=0.1.1 in /usr/local/lib/python3.7/dist-packages (from tensorflow-model-optimization>=0.4.1->tf-models-official) (0.1.6)\n",
      "Requirement already satisfied: zipp>=0.5 in /usr/local/lib/python3.7/dist-packages (from importlib-metadata->markdown>=2.6.8->tensorboard~=2.6->tensorflow>=2.5.0->tf-models-official) (3.6.0)\n",
      "Requirement already satisfied: cycler>=0.10 in /usr/local/lib/python3.7/dist-packages (from matplotlib->tf-models-official) (0.10.0)\n",
      "Requirement already satisfied: kiwisolver>=1.0.1 in /usr/local/lib/python3.7/dist-packages (from matplotlib->tf-models-official) (1.3.2)\n",
      "Requirement already satisfied: text-unidecode>=1.3 in /usr/local/lib/python3.7/dist-packages (from python-slugify->kaggle>=1.3.9->tf-models-official) (1.3)\n",
      "Collecting portalocker\n",
      "  Downloading portalocker-2.3.2-py2.py3-none-any.whl (15 kB)\n",
      "Collecting colorama\n",
      "  Downloading colorama-0.4.4-py2.py3-none-any.whl (16 kB)\n",
      "Requirement already satisfied: regex in /usr/local/lib/python3.7/dist-packages (from sacrebleu->tf-models-official) (2019.12.20)\n",
      "Requirement already satisfied: tabulate>=0.8.9 in /usr/local/lib/python3.7/dist-packages (from sacrebleu->tf-models-official) (0.8.9)\n",
      "Requirement already satisfied: scikit-learn>=0.21.3 in /usr/local/lib/python3.7/dist-packages (from seqeval->tf-models-official) (0.22.2.post1)\n",
      "Requirement already satisfied: joblib>=0.11 in /usr/local/lib/python3.7/dist-packages (from scikit-learn>=0.21.3->seqeval->tf-models-official) (1.0.1)\n",
      "Requirement already satisfied: typeguard>=2.7 in /usr/local/lib/python3.7/dist-packages (from tensorflow-addons->tf-models-official) (2.7.1)\n",
      "Requirement already satisfied: importlib-resources in /usr/local/lib/python3.7/dist-packages (from tensorflow-datasets->tf-models-official) (5.2.2)\n",
      "Requirement already satisfied: promise in /usr/local/lib/python3.7/dist-packages (from tensorflow-datasets->tf-models-official) (2.3)\n",
      "Requirement already satisfied: attrs>=18.1.0 in /usr/local/lib/python3.7/dist-packages (from tensorflow-datasets->tf-models-official) (21.2.0)\n",
      "Requirement already satisfied: dill in /usr/local/lib/python3.7/dist-packages (from tensorflow-datasets->tf-models-official) (0.3.4)\n",
      "Requirement already satisfied: future in /usr/local/lib/python3.7/dist-packages (from tensorflow-datasets->tf-models-official) (0.16.0)\n",
      "Requirement already satisfied: tensorflow-metadata in /usr/local/lib/python3.7/dist-packages (from tensorflow-datasets->tf-models-official) (1.2.0)\n",
      "Building wheels for collected packages: py-cpuinfo, seqeval\n",
      "  Building wheel for py-cpuinfo (setup.py) ... \u001b[?25l\u001b[?25hdone\n",
      "  Created wheel for py-cpuinfo: filename=py_cpuinfo-8.0.0-py3-none-any.whl size=22258 sha256=784042cc69a4309ef6b80f328baf0913e073bc30d3f3e8c2cd2674dfc8add04b\n",
      "  Stored in directory: /root/.cache/pip/wheels/d2/f1/1f/041add21dc9c4220157f1bd2bd6afe1f1a49524c3396b94401\n",
      "  Building wheel for seqeval (setup.py) ... \u001b[?25l\u001b[?25hdone\n",
      "  Created wheel for seqeval: filename=seqeval-1.2.2-py3-none-any.whl size=16181 sha256=f873cf6da536795481c40ce578b38579353db0f731e3988dbc10d5fc4600c8f3\n",
      "  Stored in directory: /root/.cache/pip/wheels/05/96/ee/7cac4e74f3b19e3158dce26a20a1c86b3533c43ec72a549fd7\n",
      "Successfully built py-cpuinfo seqeval\n",
      "Installing collected packages: portalocker, colorama, tf-slim, tensorflow-text, tensorflow-model-optimization, tensorflow-addons, seqeval, sentencepiece, sacrebleu, pyyaml, py-cpuinfo, opencv-python-headless, tf-models-official\n",
      "  Attempting uninstall: pyyaml\n",
      "    Found existing installation: PyYAML 3.13\n",
      "    Uninstalling PyYAML-3.13:\n",
      "      Successfully uninstalled PyYAML-3.13\n",
      "Successfully installed colorama-0.4.4 opencv-python-headless-4.5.4.58 portalocker-2.3.2 py-cpuinfo-8.0.0 pyyaml-6.0 sacrebleu-2.0.0 sentencepiece-0.1.96 seqeval-1.2.2 tensorflow-addons-0.14.0 tensorflow-model-optimization-0.7.0 tensorflow-text-2.6.0 tf-models-official-2.6.0 tf-slim-1.1.0\n",
      "Collecting tf-nightly\n",
      "  Downloading tf_nightly-2.8.0.dev20211101-cp37-cp37m-manylinux2010_x86_64.whl (489.4 MB)\n",
      "\u001b[K     |████████████████████████████████| 489.4 MB 15 kB/s \n",
      "\u001b[?25hCollecting libclang>=9.0.1\n",
      "  Downloading libclang-12.0.0-py2.py3-none-manylinux1_x86_64.whl (13.4 MB)\n",
      "\u001b[K     |████████████████████████████████| 13.4 MB 229 kB/s \n",
      "\u001b[?25hRequirement already satisfied: absl-py>=0.4.0 in /usr/local/lib/python3.7/dist-packages (from tf-nightly) (0.12.0)\n",
      "Requirement already satisfied: flatbuffers<3.0,>=1.12 in /usr/local/lib/python3.7/dist-packages (from tf-nightly) (1.12)\n",
      "Requirement already satisfied: wrapt>=1.11.0 in /usr/local/lib/python3.7/dist-packages (from tf-nightly) (1.12.1)\n",
      "Requirement already satisfied: six>=1.12.0 in /usr/local/lib/python3.7/dist-packages (from tf-nightly) (1.15.0)\n",
      "Requirement already satisfied: gast<0.5.0,>=0.2.1 in /usr/local/lib/python3.7/dist-packages (from tf-nightly) (0.4.0)\n",
      "Requirement already satisfied: opt-einsum>=2.3.2 in /usr/local/lib/python3.7/dist-packages (from tf-nightly) (3.3.0)\n",
      "Requirement already satisfied: google-pasta>=0.1.1 in /usr/local/lib/python3.7/dist-packages (from tf-nightly) (0.2.0)\n",
      "Collecting tensorflow-io-gcs-filesystem>=0.21.0\n",
      "  Downloading tensorflow_io_gcs_filesystem-0.21.0-cp37-cp37m-manylinux_2_12_x86_64.manylinux2010_x86_64.whl (2.1 MB)\n",
      "\u001b[K     |████████████████████████████████| 2.1 MB 47.8 MB/s \n",
      "\u001b[?25hRequirement already satisfied: keras-preprocessing>=1.1.1 in /usr/local/lib/python3.7/dist-packages (from tf-nightly) (1.1.2)\n",
      "Requirement already satisfied: typing-extensions>=3.6.6 in /usr/local/lib/python3.7/dist-packages (from tf-nightly) (3.7.4.3)\n",
      "Requirement already satisfied: astunparse>=1.6.0 in /usr/local/lib/python3.7/dist-packages (from tf-nightly) (1.6.3)\n",
      "Requirement already satisfied: h5py>=2.9.0 in /usr/local/lib/python3.7/dist-packages (from tf-nightly) (3.1.0)\n",
      "Requirement already satisfied: wheel<1.0,>=0.32.0 in /usr/local/lib/python3.7/dist-packages (from tf-nightly) (0.37.0)\n",
      "Collecting tb-nightly~=2.7.0.a\n",
      "  Downloading tb_nightly-2.7.0a20211013-py3-none-any.whl (5.8 MB)\n",
      "\u001b[K     |████████████████████████████████| 5.8 MB 39.4 MB/s \n",
      "\u001b[?25hCollecting tf-estimator-nightly~=2.8.0.dev\n",
      "  Downloading tf_estimator_nightly-2.8.0.dev2021110108-py2.py3-none-any.whl (462 kB)\n",
      "\u001b[K     |████████████████████████████████| 462 kB 39.7 MB/s \n",
      "\u001b[?25hRequirement already satisfied: numpy>=1.14.5 in /usr/local/lib/python3.7/dist-packages (from tf-nightly) (1.19.5)\n",
      "Requirement already satisfied: termcolor>=1.1.0 in /usr/local/lib/python3.7/dist-packages (from tf-nightly) (1.1.0)\n",
      "Requirement already satisfied: protobuf>=3.9.2 in /usr/local/lib/python3.7/dist-packages (from tf-nightly) (3.17.3)\n",
      "Collecting keras-nightly~=2.8.0.dev\n",
      "  Downloading keras_nightly-2.8.0.dev2021110107-py2.py3-none-any.whl (1.4 MB)\n",
      "\u001b[K     |████████████████████████████████| 1.4 MB 31.8 MB/s \n",
      "\u001b[?25hRequirement already satisfied: grpcio<2.0,>=1.24.3 in /usr/local/lib/python3.7/dist-packages (from tf-nightly) (1.41.0)\n",
      "Requirement already satisfied: cached-property in /usr/local/lib/python3.7/dist-packages (from h5py>=2.9.0->tf-nightly) (1.5.2)\n",
      "Requirement already satisfied: werkzeug>=0.11.15 in /usr/local/lib/python3.7/dist-packages (from tb-nightly~=2.7.0.a->tf-nightly) (1.0.1)\n",
      "Requirement already satisfied: google-auth-oauthlib<0.5,>=0.4.1 in /usr/local/lib/python3.7/dist-packages (from tb-nightly~=2.7.0.a->tf-nightly) (0.4.6)\n",
      "Requirement already satisfied: tensorboard-plugin-wit>=1.6.0 in /usr/local/lib/python3.7/dist-packages (from tb-nightly~=2.7.0.a->tf-nightly) (1.8.0)\n",
      "Requirement already satisfied: setuptools>=41.0.0 in /usr/local/lib/python3.7/dist-packages (from tb-nightly~=2.7.0.a->tf-nightly) (57.4.0)\n",
      "Requirement already satisfied: google-auth<3,>=1.6.3 in /usr/local/lib/python3.7/dist-packages (from tb-nightly~=2.7.0.a->tf-nightly) (1.35.0)\n",
      "Requirement already satisfied: requests<3,>=2.21.0 in /usr/local/lib/python3.7/dist-packages (from tb-nightly~=2.7.0.a->tf-nightly) (2.23.0)\n",
      "Requirement already satisfied: tensorboard-data-server<0.7.0,>=0.6.0 in /usr/local/lib/python3.7/dist-packages (from tb-nightly~=2.7.0.a->tf-nightly) (0.6.1)\n",
      "Requirement already satisfied: markdown>=2.6.8 in /usr/local/lib/python3.7/dist-packages (from tb-nightly~=2.7.0.a->tf-nightly) (3.3.4)\n",
      "Requirement already satisfied: rsa<5,>=3.1.4 in /usr/local/lib/python3.7/dist-packages (from google-auth<3,>=1.6.3->tb-nightly~=2.7.0.a->tf-nightly) (4.7.2)\n",
      "Requirement already satisfied: pyasn1-modules>=0.2.1 in /usr/local/lib/python3.7/dist-packages (from google-auth<3,>=1.6.3->tb-nightly~=2.7.0.a->tf-nightly) (0.2.8)\n",
      "Requirement already satisfied: cachetools<5.0,>=2.0.0 in /usr/local/lib/python3.7/dist-packages (from google-auth<3,>=1.6.3->tb-nightly~=2.7.0.a->tf-nightly) (4.2.4)\n",
      "Requirement already satisfied: requests-oauthlib>=0.7.0 in /usr/local/lib/python3.7/dist-packages (from google-auth-oauthlib<0.5,>=0.4.1->tb-nightly~=2.7.0.a->tf-nightly) (1.3.0)\n",
      "Requirement already satisfied: importlib-metadata in /usr/local/lib/python3.7/dist-packages (from markdown>=2.6.8->tb-nightly~=2.7.0.a->tf-nightly) (4.8.1)\n",
      "Requirement already satisfied: pyasn1<0.5.0,>=0.4.6 in /usr/local/lib/python3.7/dist-packages (from pyasn1-modules>=0.2.1->google-auth<3,>=1.6.3->tb-nightly~=2.7.0.a->tf-nightly) (0.4.8)\n",
      "Requirement already satisfied: idna<3,>=2.5 in /usr/local/lib/python3.7/dist-packages (from requests<3,>=2.21.0->tb-nightly~=2.7.0.a->tf-nightly) (2.10)\n",
      "Requirement already satisfied: urllib3!=1.25.0,!=1.25.1,<1.26,>=1.21.1 in /usr/local/lib/python3.7/dist-packages (from requests<3,>=2.21.0->tb-nightly~=2.7.0.a->tf-nightly) (1.24.3)\n",
      "Requirement already satisfied: certifi>=2017.4.17 in /usr/local/lib/python3.7/dist-packages (from requests<3,>=2.21.0->tb-nightly~=2.7.0.a->tf-nightly) (2021.5.30)\n",
      "Requirement already satisfied: chardet<4,>=3.0.2 in /usr/local/lib/python3.7/dist-packages (from requests<3,>=2.21.0->tb-nightly~=2.7.0.a->tf-nightly) (3.0.4)\n",
      "Requirement already satisfied: oauthlib>=3.0.0 in /usr/local/lib/python3.7/dist-packages (from requests-oauthlib>=0.7.0->google-auth-oauthlib<0.5,>=0.4.1->tb-nightly~=2.7.0.a->tf-nightly) (3.1.1)\n",
      "Requirement already satisfied: zipp>=0.5 in /usr/local/lib/python3.7/dist-packages (from importlib-metadata->markdown>=2.6.8->tb-nightly~=2.7.0.a->tf-nightly) (3.6.0)\n",
      "Installing collected packages: tf-estimator-nightly, tensorflow-io-gcs-filesystem, tb-nightly, libclang, keras-nightly, tf-nightly\n",
      "Successfully installed keras-nightly-2.8.0.dev2021110107 libclang-12.0.0 tb-nightly-2.7.0a20211013 tensorflow-io-gcs-filesystem-0.21.0 tf-estimator-nightly-2.8.0.dev2021110108 tf-nightly-2.8.0.dev20211101\n",
      "Requirement already satisfied: sentencepiece in /usr/local/lib/python3.7/dist-packages (0.1.96)\n"
     ]
    }
   ],
   "source": [
    "!pip install tf-models-official\n",
    "!pip install tf-nightly\n",
    "!pip install sentencepiece"
   ]
  },
  {
   "cell_type": "code",
   "execution_count": 2,
   "metadata": {
    "id": "HAUn5avjTr7k"
   },
   "outputs": [],
   "source": [
    "import tensorflow as tf"
   ]
  },
  {
   "cell_type": "code",
   "execution_count": 3,
   "metadata": {
    "colab": {
     "base_uri": "https://localhost:8080/",
     "height": 37
    },
    "id": "UP83WHeEUi2F",
    "outputId": "c8c86dcf-2e6c-415c-d4cb-3b2fe324ee1b"
   },
   "outputs": [
    {
     "data": {
      "application/vnd.google.colaboratory.intrinsic+json": {
       "type": "string"
      },
      "text/plain": [
       "'2.8.0-dev20211101'"
      ]
     },
     "execution_count": 3,
     "metadata": {},
     "output_type": "execute_result"
    }
   ],
   "source": [
    "tf.__version__"
   ]
  },
  {
   "cell_type": "code",
   "execution_count": 4,
   "metadata": {
    "colab": {
     "base_uri": "https://localhost:8080/"
    },
    "id": "sw2AvAcGUlSk",
    "outputId": "19ad89a4-8cba-494f-8962-200dbd3f0175"
   },
   "outputs": [
    {
     "name": "stderr",
     "output_type": "stream",
     "text": [
      "/usr/local/lib/python3.7/dist-packages/tensorflow_addons/utils/ensure_tf_install.py:43: UserWarning: You are currently using a nightly version of TensorFlow (2.8.0-dev20211101). \n",
      "TensorFlow Addons offers no support for the nightly versions of TensorFlow. Some things might work, some other might not. \n",
      "If you encounter a bug, do not file an issue on GitHub.\n",
      "  UserWarning,\n"
     ]
    }
   ],
   "source": [
    "import tensorflow_hub as hub\n",
    "\n",
    "from official.nlp.bert.tokenization import FullTokenizer\n",
    "from official.nlp.bert.input_pipeline import create_squad_dataset\n",
    "from official.nlp.data.squad_lib import generate_tf_record_from_json_file\n",
    "\n",
    "from official.nlp import optimization\n",
    "\n",
    "from official.nlp.data.squad_lib import read_squad_examples\n",
    "from official.nlp.data.squad_lib import FeatureWriter\n",
    "from official.nlp.data.squad_lib import convert_examples_to_features\n",
    "from official.nlp.data.squad_lib import write_predictions"
   ]
  },
  {
   "cell_type": "code",
   "execution_count": 5,
   "metadata": {
    "id": "1-Oj0-A1W4ra"
   },
   "outputs": [],
   "source": [
    "import numpy as np\n",
    "import math\n",
    "import random\n",
    "import time\n",
    "import json\n",
    "import collections\n",
    "import os\n",
    "\n",
    "from google.colab import drive"
   ]
  },
  {
   "cell_type": "markdown",
   "metadata": {
    "id": "6-2G6U3AXpZ5"
   },
   "source": [
    "# Stage 2: Data preprocessing"
   ]
  },
  {
   "cell_type": "code",
   "execution_count": 15,
   "metadata": {
    "colab": {
     "base_uri": "https://localhost:8080/"
    },
    "id": "UUcHKRAyXqFa",
    "outputId": "7d193ca1-0d59-4bb4-ec28-51a6a724e14b"
   },
   "outputs": [
    {
     "name": "stdout",
     "output_type": "stream",
     "text": [
      "Drive already mounted at /content/drive; to attempt to forcibly remount, call drive.mount(\"/content/drive\", force_remount=True).\n"
     ]
    }
   ],
   "source": [
    "drive.mount(\"/content/drive\")"
   ]
  },
  {
   "cell_type": "code",
   "execution_count": 8,
   "metadata": {
    "id": "L8T3i-yxxVMT"
   },
   "outputs": [],
   "source": [
    "input_file_path = \"/content/drive/MyDrive/Projects/BERT/data/squad/train-v1.1.json\"\n",
    "vocab_file_path = \"/content/drive/MyDrive/Projects/BERT/data/squad/vocab.txt\"\n",
    "output_path = \"/content/drive/MyDrive/Projects/BERT/data/squad/train-v1.1.tf_record\""
   ]
  },
  {
   "cell_type": "code",
   "execution_count": 10,
   "metadata": {
    "id": "yIXwO_klXr3R"
   },
   "outputs": [],
   "source": [
    "input_meta_data = generate_tf_record_from_json_file(input_file_path,\n",
    "                                      vocab_file_path,\n",
    "                                      output_path,\n",
    "                                      translated_input_folder=None,\n",
    "                                      max_seq_length=384,\n",
    "                                      do_lower_case=True,\n",
    "                                      max_query_length=64,\n",
    "                                      doc_stride=128,\n",
    "                                      version_2_with_negative=False,\n",
    "                                      xlnet_format=False)"
   ]
  },
  {
   "cell_type": "code",
   "execution_count": 17,
   "metadata": {
    "id": "CDLswrTCxSFd"
   },
   "outputs": [],
   "source": [
    "with tf.io.gfile.GFile(\"/content/drive/MyDrive/Projects/BERT/data/squad/train_meta_data\", \"w\") as writer:\n",
    "    writer.write(json.dumps(input_meta_data, indent=4) + \"\\n\")"
   ]
  },
  {
   "cell_type": "code",
   "execution_count": 27,
   "metadata": {
    "id": "ZDjwM-Lj0HOX"
   },
   "outputs": [],
   "source": [
    "BATCH_SIZE = 4\n",
    "\n",
    "train_dataset = create_squad_dataset(\n",
    "    \"/content/drive/MyDrive/Projects/BERT/data/squad/train-v1.1.tf_record\",\n",
    "    input_meta_data['max_seq_length'], # 384\n",
    "    BATCH_SIZE,\n",
    "    is_training=True)"
   ]
  },
  {
   "cell_type": "markdown",
   "metadata": {
    "id": "9ok5kNG13OQ9"
   },
   "source": [
    "# Stage 3: Model building"
   ]
  },
  {
   "cell_type": "markdown",
   "metadata": {
    "id": "N5YBDCHJ3Ol0"
   },
   "source": [
    "## Squad layer"
   ]
  },
  {
   "cell_type": "code",
   "execution_count": 29,
   "metadata": {
    "id": "uw6ztVII3UTL"
   },
   "outputs": [],
   "source": [
    "class BertSquadLayer(tf.keras.layers.Layer):\n",
    "\n",
    "  def __init__(self):\n",
    "    super(BertSquadLayer, self).__init__()\n",
    "    self.final_dense = tf.keras.layers.Dense(\n",
    "        units=2,\n",
    "        kernel_initializer=tf.keras.initializers.TruncatedNormal(stddev=0.02))\n",
    "\n",
    "  def call(self, inputs):\n",
    "    logits = self.final_dense(inputs) # (batch_size, seq_len, 2)\n",
    "\n",
    "    logits = tf.transpose(logits, [2, 0, 1]) # (2, batch_size, seq_len)\n",
    "    unstacked_logits = tf.unstack(logits, axis=0) # [(batch_size, seq_len), (batch_size, seq_len)] \n",
    "    return unstacked_logits[0], unstacked_logits[1]"
   ]
  },
  {
   "cell_type": "markdown",
   "metadata": {
    "id": "mFG9k9Q93-z-"
   },
   "source": [
    "## Whole model"
   ]
  },
  {
   "cell_type": "code",
   "execution_count": 30,
   "metadata": {
    "id": "iOPLS7qP3_R4"
   },
   "outputs": [],
   "source": [
    "class BERTSquad(tf.keras.Model):\n",
    "    \n",
    "    def __init__(self,\n",
    "                 name=\"bert_squad\"):\n",
    "        super(BERTSquad, self).__init__(name=name)\n",
    "        \n",
    "        self.bert_layer = hub.KerasLayer(\n",
    "            \"https://tfhub.dev/tensorflow/bert_en_uncased_L-12_H-768_A-12/1\",\n",
    "            trainable=True)\n",
    "        \n",
    "        self.squad_layer = BertSquadLayer()\n",
    "    \n",
    "    def apply_bert(self, inputs):\n",
    "#        _ , sequence_output = self.bert_layer([inputs[\"input_ids\"],\n",
    "#                                               inputs[\"input_mask\"],\n",
    "#                                               inputs[\"segment_ids\"]])\n",
    "        \n",
    "        # New names for the 3 different elements of the inputs, since an update\n",
    "        # in tf_models_officials. Doesn't change anything for any other BERT\n",
    "        # usage.\n",
    "        _ , sequence_output = self.bert_layer([inputs[\"input_word_ids\"],\n",
    "                                               inputs[\"input_mask\"],\n",
    "                                               inputs[\"input_type_ids\"]])\n",
    "        return sequence_output\n",
    "\n",
    "    def call(self, inputs):\n",
    "        seq_output = self.apply_bert(inputs)\n",
    "\n",
    "        start_logits, end_logits = self.squad_layer(seq_output)\n",
    "        \n",
    "        return start_logits, end_logits"
   ]
  },
  {
   "cell_type": "code",
   "execution_count": null,
   "metadata": {
    "id": "3oqI4NlL4DvK"
   },
   "outputs": [],
   "source": []
  },
  {
   "cell_type": "markdown",
   "metadata": {
    "id": "YMAXHHom4ICo"
   },
   "source": [
    "# Stage 4: Training"
   ]
  },
  {
   "cell_type": "markdown",
   "metadata": {
    "id": "znwYZgeJ4IeC"
   },
   "source": [
    "\n",
    "## Creating the AI"
   ]
  },
  {
   "cell_type": "code",
   "execution_count": 31,
   "metadata": {
    "id": "UAfBXzLL4V0b"
   },
   "outputs": [],
   "source": [
    "TRAIN_DATA_SIZE = 88641\n",
    "NB_BATCHES_TRAIN = 2000\n",
    "BATCH_SIZE = 4\n",
    "NB_EPOCHS = 3\n",
    "INIT_LR = 5e-5\n",
    "WARMUP_STEPS = int(NB_BATCHES_TRAIN * 0.1)"
   ]
  },
  {
   "cell_type": "code",
   "execution_count": 32,
   "metadata": {
    "id": "7Rih_Wge4azI"
   },
   "outputs": [],
   "source": [
    "train_dataset_light = train_dataset.take(NB_BATCHES_TRAIN)"
   ]
  },
  {
   "cell_type": "code",
   "execution_count": 33,
   "metadata": {
    "id": "JVfRtAD94c23"
   },
   "outputs": [],
   "source": [
    "bert_squad = BERTSquad()"
   ]
  },
  {
   "cell_type": "code",
   "execution_count": 34,
   "metadata": {
    "id": "tCsznShN4eXP"
   },
   "outputs": [],
   "source": [
    "optimizer = optimization.create_optimizer(\n",
    "    init_lr=INIT_LR,\n",
    "    num_train_steps=NB_BATCHES_TRAIN,\n",
    "    num_warmup_steps=WARMUP_STEPS)"
   ]
  },
  {
   "cell_type": "code",
   "execution_count": 35,
   "metadata": {
    "id": "zRP8_i4s4ka1"
   },
   "outputs": [],
   "source": [
    "def squad_loss_fn(labels, model_outputs):\n",
    "    start_positions = labels['start_positions']\n",
    "    end_positions = labels['end_positions']\n",
    "    start_logits, end_logits = model_outputs\n",
    "\n",
    "    start_loss = tf.keras.backend.sparse_categorical_crossentropy(\n",
    "        start_positions, start_logits, from_logits=True)\n",
    "    end_loss = tf.keras.backend.sparse_categorical_crossentropy(\n",
    "        end_positions, end_logits, from_logits=True)\n",
    "    \n",
    "    total_loss = (tf.reduce_mean(start_loss) + tf.reduce_mean(end_loss)) / 2\n",
    "\n",
    "    return total_loss\n",
    "\n",
    "train_loss = tf.keras.metrics.Mean(name=\"train_loss\")"
   ]
  },
  {
   "cell_type": "code",
   "execution_count": 36,
   "metadata": {
    "colab": {
     "base_uri": "https://localhost:8080/"
    },
    "id": "Z-hFjczw4ma3",
    "outputId": "b6033741-830e-4b48-f290-75d42160b1ca"
   },
   "outputs": [
    {
     "data": {
      "text/plain": [
       "({'input_mask': <tf.Tensor: shape=(4, 384), dtype=int32, numpy=\n",
       "  array([[1, 1, 1, ..., 0, 0, 0],\n",
       "         [1, 1, 1, ..., 0, 0, 0],\n",
       "         [1, 1, 1, ..., 0, 0, 0],\n",
       "         [1, 1, 1, ..., 0, 0, 0]], dtype=int32)>,\n",
       "  'input_type_ids': <tf.Tensor: shape=(4, 384), dtype=int32, numpy=\n",
       "  array([[0, 0, 0, ..., 0, 0, 0],\n",
       "         [0, 0, 0, ..., 0, 0, 0],\n",
       "         [0, 0, 0, ..., 0, 0, 0],\n",
       "         [0, 0, 0, ..., 0, 0, 0]], dtype=int32)>,\n",
       "  'input_word_ids': <tf.Tensor: shape=(4, 384), dtype=int32, numpy=\n",
       "  array([[ 101, 2077, 1996, ...,    0,    0,    0],\n",
       "         [ 101, 2029, 2934, ...,    0,    0,    0],\n",
       "         [ 101, 2073, 2106, ...,    0,    0,    0],\n",
       "         [ 101, 2054, 7017, ...,    0,    0,    0]], dtype=int32)>},\n",
       " {'end_positions': <tf.Tensor: shape=(4,), dtype=int32, numpy=array([46, 47, 32, 61], dtype=int32)>,\n",
       "  'start_positions': <tf.Tensor: shape=(4,), dtype=int32, numpy=array([43, 45, 31, 58], dtype=int32)>})"
      ]
     },
     "execution_count": 36,
     "metadata": {},
     "output_type": "execute_result"
    }
   ],
   "source": [
    "next(iter(train_dataset_light))"
   ]
  },
  {
   "cell_type": "code",
   "execution_count": 37,
   "metadata": {
    "id": "Nbw6FkGQ4oUo"
   },
   "outputs": [],
   "source": [
    "bert_squad.compile(optimizer,\n",
    "                   squad_loss_fn)"
   ]
  },
  {
   "cell_type": "code",
   "execution_count": 40,
   "metadata": {
    "id": "iXSCB1IS5ECz"
   },
   "outputs": [],
   "source": [
    "checkpoint_path = \"/content/drive/MyDrive/Projects/BERT/ckpt_bert_squad\"\n",
    "\n",
    "ckpt = tf.train.Checkpoint(bert_squad=bert_squad)\n",
    "\n",
    "ckpt_manager = tf.train.CheckpointManager(ckpt, checkpoint_path, max_to_keep=1)\n",
    "\n",
    "if ckpt_manager.latest_checkpoint:\n",
    "    ckpt.restore(ckpt_manager.latest_checkpoint)\n",
    "    print(\"Latest checkpoint restored!!\")"
   ]
  },
  {
   "cell_type": "markdown",
   "metadata": {
    "id": "F6VqGxoS5IAv"
   },
   "source": [
    "## Custom training"
   ]
  },
  {
   "cell_type": "code",
   "execution_count": null,
   "metadata": {
    "colab": {
     "base_uri": "https://localhost:8080/"
    },
    "id": "bgU1UGBz5IdF",
    "outputId": "27ca7417-a0aa-467a-c147-045ac04cb711"
   },
   "outputs": [
    {
     "name": "stdout",
     "output_type": "stream",
     "text": [
      "Start of epoch 1\n",
      "Epoch 1 Batch 0 Loss 5.8636\n",
      "Saving checkpoint for epoch 1 at /content/drive/MyDrive/Projects/BERT/ckpt_bert_squad/ckpt-1\n",
      "Epoch 1 Batch 50 Loss 5.2574\n",
      "Epoch 1 Batch 100 Loss 4.6209\n",
      "Epoch 1 Batch 150 Loss 3.9409\n",
      "Epoch 1 Batch 200 Loss 3.5667\n",
      "Epoch 1 Batch 250 Loss 3.2432\n",
      "Epoch 1 Batch 300 Loss 3.0327\n",
      "Epoch 1 Batch 350 Loss 2.9214\n",
      "Epoch 1 Batch 400 Loss 2.7786\n",
      "Epoch 1 Batch 450 Loss 2.6507\n",
      "Epoch 1 Batch 500 Loss 2.5325\n",
      "Saving checkpoint for epoch 1 at /content/drive/MyDrive/Projects/BERT/ckpt_bert_squad/ckpt-2\n"
     ]
    }
   ],
   "source": [
    "for epoch in range(NB_EPOCHS):\n",
    "    print(\"Start of epoch {}\".format(epoch+1))\n",
    "    start = time.time()\n",
    "    \n",
    "    train_loss.reset_states()\n",
    "    \n",
    "    for (batch, (inputs, targets)) in enumerate(train_dataset_light):\n",
    "        with tf.GradientTape() as tape:\n",
    "            model_outputs = bert_squad(inputs)\n",
    "            loss = squad_loss_fn(targets, model_outputs)\n",
    "        \n",
    "        gradients = tape.gradient(loss, bert_squad.trainable_variables)\n",
    "        optimizer.apply_gradients(zip(gradients, bert_squad.trainable_variables))\n",
    "        \n",
    "        train_loss(loss)\n",
    "        \n",
    "        if batch % 50 == 0:\n",
    "            print(\"Epoch {} Batch {} Loss {:.4f}\".format(\n",
    "                epoch+1, batch, train_loss.result()))\n",
    "        \n",
    "        if batch % 500 == 0:\n",
    "            ckpt_save_path = ckpt_manager.save()\n",
    "            print(\"Saving checkpoint for epoch {} at {}\".format(epoch+1,\n",
    "                                                                ckpt_save_path))\n",
    "    print(\"Time taken for 1 epoch: {} secs\\n\".format(time.time() - start))"
   ]
  },
  {
   "cell_type": "code",
   "execution_count": null,
   "metadata": {
    "id": "4C_E1xKf5MSS"
   },
   "outputs": [],
   "source": []
  },
  {
   "cell_type": "markdown",
   "metadata": {
    "id": "iGn8vjIsm6jB"
   },
   "source": [
    "# Stage 5: Evaluation"
   ]
  },
  {
   "cell_type": "markdown",
   "metadata": {
    "id": "uHQMedPqnAEn"
   },
   "source": [
    "## Prepare evaluation"
   ]
  },
  {
   "cell_type": "markdown",
   "metadata": {
    "id": "h_9fTbDknARR"
   },
   "source": [
    "Get the dev set in the session"
   ]
  },
  {
   "cell_type": "code",
   "execution_count": null,
   "metadata": {
    "id": "Vw5kQeMNm8Lx"
   },
   "outputs": [],
   "source": [
    "eval_examples = read_squad_examples(\n",
    "    \"/content/drive/MyDrive/projects/BERT/data/squad/dev-v1.1.json\",\n",
    "    is_training=False,\n",
    "    version_2_with_negative=False)"
   ]
  },
  {
   "cell_type": "markdown",
   "metadata": {
    "id": "z2cVWR7YnLWa"
   },
   "source": [
    "Define the function that will write the tf_record file for the dev set"
   ]
  },
  {
   "cell_type": "code",
   "execution_count": null,
   "metadata": {
    "id": "vQbYQdR8nLzr"
   },
   "outputs": [],
   "source": [
    "eval_writer = FeatureWriter(\n",
    "    filename=os.path.join(\"/content/drive/MyDrive/projects/BERT/data/squad/\",\n",
    "                          \"eval.tf_record\"),\n",
    "    is_training=False)"
   ]
  },
  {
   "cell_type": "markdown",
   "metadata": {
    "id": "mB4jCfXunQ1X"
   },
   "source": [
    "Create a tokenizer for future information needs"
   ]
  },
  {
   "cell_type": "code",
   "execution_count": null,
   "metadata": {
    "id": "iT7xM5FKnRYG"
   },
   "outputs": [],
   "source": [
    "my_bert_layer = hub.KerasLayer(\n",
    "    \"https://tfhub.dev/tensorflow/bert_en_uncased_L-12_H-768_A-12/1\",\n",
    "    trainable=False)\n",
    "vocab_file = my_bert_layer.resolved_object.vocab_file.asset_path.numpy()\n",
    "do_lower_case = my_bert_layer.resolved_object.do_lower_case.numpy()\n",
    "tokenizer = FullTokenizer(vocab_file, do_lower_case)"
   ]
  },
  {
   "cell_type": "markdown",
   "metadata": {
    "id": "Nwoi3VPnnWfA"
   },
   "source": [
    "Define the function that add the features (feature is a protocol in tensorflow) to our eval_features list"
   ]
  },
  {
   "cell_type": "code",
   "execution_count": null,
   "metadata": {
    "id": "0t0MvvnDnW6y"
   },
   "outputs": [],
   "source": [
    "def _append_feature(feature, is_padding):\n",
    "    if not is_padding:\n",
    "        eval_features.append(feature)\n",
    "    eval_writer.process_feature(feature)"
   ]
  },
  {
   "cell_type": "markdown",
   "metadata": {
    "id": "8bxEY7cinbg_"
   },
   "source": [
    "Create the eval features and the writes the tf.record file"
   ]
  },
  {
   "cell_type": "code",
   "execution_count": null,
   "metadata": {
    "id": "CWavvZfynb-M"
   },
   "outputs": [],
   "source": [
    "eval_features = []\n",
    "dataset_size = convert_examples_to_features(\n",
    "    examples=eval_examples,\n",
    "    tokenizer=tokenizer,\n",
    "    max_seq_length=384,\n",
    "    doc_stride=128,\n",
    "    max_query_length=64,\n",
    "    is_training=False,\n",
    "    output_fn=_append_feature,\n",
    "    batch_size=4)"
   ]
  },
  {
   "cell_type": "code",
   "execution_count": null,
   "metadata": {
    "id": "51lFGWY9ndnh"
   },
   "outputs": [],
   "source": [
    "eval_writer.close()"
   ]
  },
  {
   "cell_type": "markdown",
   "metadata": {
    "id": "F1G2LIpknhH2"
   },
   "source": [
    "Load the ready-to-be-used dataset to our session"
   ]
  },
  {
   "cell_type": "code",
   "execution_count": null,
   "metadata": {
    "id": "4PHo5j4MnjhT"
   },
   "outputs": [],
   "source": [
    "BATCH_SIZE = 4\n",
    "\n",
    "eval_dataset = create_squad_dataset(\n",
    "    \"/content/drive/MyDrive/projects/BERT/data/squad/eval.tf_record\",\n",
    "    384,#input_meta_data['max_seq_length'],\n",
    "    BATCH_SIZE,\n",
    "    is_training=False)"
   ]
  },
  {
   "cell_type": "markdown",
   "metadata": {
    "id": "SD29wBRhnong"
   },
   "source": [
    "## Making the predictions"
   ]
  },
  {
   "cell_type": "markdown",
   "metadata": {
    "id": "krXVvIXTnsqB"
   },
   "source": [
    "Defines a certain type of collection (like a dictionary)"
   ]
  },
  {
   "cell_type": "code",
   "execution_count": null,
   "metadata": {
    "id": "BpQ67eVentBk"
   },
   "outputs": [],
   "source": [
    "RawResult = collections.namedtuple(\"RawResult\",\n",
    "                                   [\"unique_id\", \"start_logits\", \"end_logits\"])"
   ]
  },
  {
   "cell_type": "markdown",
   "metadata": {
    "id": "nFk82L71nybr"
   },
   "source": [
    "Returns each element of batched output at a time"
   ]
  },
  {
   "cell_type": "code",
   "execution_count": null,
   "metadata": {
    "id": "ibo_FUGEny6g"
   },
   "outputs": [],
   "source": [
    "def get_raw_results(predictions):\n",
    "    for unique_ids, start_logits, end_logits in zip(predictions['unique_ids'],\n",
    "                                                    predictions['start_logits'],\n",
    "                                                    predictions['end_logits']):\n",
    "        yield RawResult(\n",
    "            unique_id=unique_ids.numpy(),\n",
    "            start_logits=start_logits.numpy().tolist(),\n",
    "            end_logits=end_logits.numpy().tolist())"
   ]
  },
  {
   "cell_type": "markdown",
   "metadata": {
    "id": "_gsPTBRVn3fh"
   },
   "source": [
    "Let's make our predictions!"
   ]
  },
  {
   "cell_type": "code",
   "execution_count": null,
   "metadata": {
    "id": "yQK655Lmn32i"
   },
   "outputs": [],
   "source": [
    "all_results = []\n",
    "for count, inputs in enumerate(eval_dataset):\n",
    "    x, _ = inputs\n",
    "    unique_ids = x.pop(\"unique_ids\")\n",
    "    start_logits, end_logits = bert_squad(x, training=False)\n",
    "    output_dict = dict(\n",
    "        unique_ids=unique_ids,\n",
    "        start_logits=start_logits,\n",
    "        end_logits=end_logits)\n",
    "    for result in get_raw_results(output_dict):\n",
    "        all_results.append(result)\n",
    "    if count % 100 == 0:\n",
    "        print(\"{}/{}\".format(count, 2709))"
   ]
  },
  {
   "cell_type": "markdown",
   "metadata": {
    "id": "EQDtDcGHn8aj"
   },
   "source": [
    "Write the predictions in a json file that will work with the evaluation script"
   ]
  },
  {
   "cell_type": "code",
   "execution_count": null,
   "metadata": {
    "id": "xSw1NOf-n88m"
   },
   "outputs": [],
   "source": [
    "output_prediction_file = \"/content/drive/MyDrive/projects/BERT/data/squad/predictions.json\"\n",
    "output_nbest_file = \"/content/drive/MyDrive/projects/BERT/data/squad/nbest_predictions.json\"\n",
    "output_null_log_odds_file = \"/content/drive/MyDrive/projects/BERT/data/squad/null_odds.json\"\n",
    "\n",
    "write_predictions(\n",
    "    eval_examples,\n",
    "    eval_features,\n",
    "    all_results,\n",
    "    20,\n",
    "    30,\n",
    "    True,\n",
    "    output_prediction_file,\n",
    "    output_nbest_file,\n",
    "    output_null_log_odds_file,\n",
    "    verbose=False)"
   ]
  },
  {
   "cell_type": "markdown",
   "metadata": {
    "id": "fdTebt7QoB8V"
   },
   "source": [
    "## Home-made prediction"
   ]
  },
  {
   "cell_type": "markdown",
   "metadata": {
    "id": "g8V_K4zioFDJ"
   },
   "source": [
    "### Input dict creation"
   ]
  },
  {
   "cell_type": "markdown",
   "metadata": {
    "id": "rJYcdcv_oFNI"
   },
   "source": [
    "We will concatenate the question and the context, separated by a `[\"SEP\"]`, after tokenization, as it has been made for the training set.\n",
    "\n",
    "The important thing is that we want our answer to start with a real word and to end with a real word. The word \"ecologically\" being tokenized as `[\"ecological\", \"##ly\"]`, if the ending token is `[\"ecological\"]` we want to use \"ecologically\" as the ending word (same thing if the ending token is `[\"##ly\"]`). That is why we first split our context into words, and then into tokens, remembering to which word each token belongs to (see the `tokenize_context()` function)."
   ]
  },
  {
   "cell_type": "markdown",
   "metadata": {
    "id": "vgG1qEKRoFcI"
   },
   "source": [
    "#### Utils"
   ]
  },
  {
   "cell_type": "code",
   "execution_count": null,
   "metadata": {
    "id": "nOj8vckjoL_9"
   },
   "outputs": [],
   "source": [
    "my_bert_layer = hub.KerasLayer(\n",
    "    \"https://tfhub.dev/tensorflow/bert_en_uncased_L-12_H-768_A-12/1\",\n",
    "    trainable=False)\n",
    "vocab_file = my_bert_layer.resolved_object.vocab_file.asset_path.numpy()\n",
    "do_lower_case = my_bert_layer.resolved_object.do_lower_case.numpy()\n",
    "tokenizer = FullTokenizer(vocab_file, do_lower_case)"
   ]
  },
  {
   "cell_type": "code",
   "execution_count": null,
   "metadata": {
    "id": "NkIox0UloOHN"
   },
   "outputs": [],
   "source": [
    "def is_whitespace(c):\n",
    "    '''\n",
    "    Tell if a chain of characters corresponds to a whitespace or not.\n",
    "    '''\n",
    "    if c == \" \" or c == \"\\t\" or c == \"\\r\" or c == \"\\n\" or ord(c) == 0x202F:\n",
    "        return True\n",
    "    return False"
   ]
  },
  {
   "cell_type": "code",
   "execution_count": null,
   "metadata": {
    "id": "2CLZWNuToP0R"
   },
   "outputs": [],
   "source": [
    "def whitespace_split(text):\n",
    "    '''\n",
    "    Take a text and return a list of \"words\" by splitting it according to\n",
    "    whitespaces.\n",
    "    '''\n",
    "    doc_tokens = []\n",
    "    prev_is_whitespace = True\n",
    "    for c in text:\n",
    "        if is_whitespace(c):\n",
    "            prev_is_whitespace = True\n",
    "        else:\n",
    "            if prev_is_whitespace:\n",
    "                doc_tokens.append(c)\n",
    "            else:\n",
    "                doc_tokens[-1] += c\n",
    "            prev_is_whitespace = False\n",
    "    return doc_tokens"
   ]
  },
  {
   "cell_type": "code",
   "execution_count": null,
   "metadata": {
    "id": "-WOxloVuoRRP"
   },
   "outputs": [],
   "source": [
    "def tokenize_context(text_words):\n",
    "    '''\n",
    "    Take a list of words (returned by whitespace_split()) and tokenize each word\n",
    "    one by one. Also keep track, for each new token, of its original word in the\n",
    "    text_words parameter.\n",
    "    '''\n",
    "    text_tok = []\n",
    "    tok_to_word_id = []\n",
    "    for word_id, word in enumerate(text_words):\n",
    "        word_tok = tokenizer.tokenize(word)\n",
    "        text_tok += word_tok\n",
    "        tok_to_word_id += [word_id]*len(word_tok)\n",
    "    return text_tok, tok_to_word_id"
   ]
  },
  {
   "cell_type": "code",
   "execution_count": null,
   "metadata": {
    "id": "WHh9QgZFoS30"
   },
   "outputs": [],
   "source": [
    "def get_ids(tokens):\n",
    "    return tokenizer.convert_tokens_to_ids(tokens)\n",
    "\n",
    "def get_mask(tokens):\n",
    "    return np.char.not_equal(tokens, \"[PAD]\").astype(int)\n",
    "\n",
    "def get_segments(tokens):\n",
    "    seg_ids = []\n",
    "    current_seg_id = 0\n",
    "    for tok in tokens:\n",
    "        seg_ids.append(current_seg_id)\n",
    "        if tok == \"[SEP]\":\n",
    "            current_seg_id = 1-current_seg_id # turns 1 into 0 and vice versa\n",
    "    return seg_ids"
   ]
  },
  {
   "cell_type": "code",
   "execution_count": null,
   "metadata": {
    "id": "xS7h99EVoUVm"
   },
   "outputs": [],
   "source": [
    "def create_input_dict(question, context):\n",
    "    '''\n",
    "    Take a question and a context as strings and return a dictionary with the 3\n",
    "    elements needed for the model. Also return the context_words, the\n",
    "    context_tok to context_word ids correspondance and the length of\n",
    "    question_tok that we will need later.\n",
    "    '''\n",
    "    question_tok = tokenizer.tokenize(my_question)\n",
    "\n",
    "    context_words = whitespace_split(context)\n",
    "    context_tok, context_tok_to_word_id = tokenize_context(context_words)\n",
    "\n",
    "    input_tok = question_tok + [\"[SEP]\"] + context_tok + [\"[SEP]\"]\n",
    "    input_tok += [\"[PAD]\"]*(384-len(input_tok)) # in our case the model has been\n",
    "                                                # trained to have inputs of length max 384\n",
    "    input_dict = {}\n",
    "    input_dict[\"input_word_ids\"] = tf.expand_dims(tf.cast(get_ids(input_tok), tf.int32), 0)\n",
    "    input_dict[\"input_mask\"] = tf.expand_dims(tf.cast(get_mask(input_tok), tf.int32), 0)\n",
    "    input_dict[\"input_type_ids\"] = tf.expand_dims(tf.cast(get_segments(input_tok), tf.int32), 0)\n",
    "\n",
    "    return input_dict, context_words, context_tok_to_word_id, len(question_tok)\n",
    "    "
   ]
  },
  {
   "cell_type": "markdown",
   "metadata": {
    "id": "sa8-9w3-oY3f"
   },
   "source": [
    "#### Creation"
   ]
  },
  {
   "cell_type": "code",
   "execution_count": null,
   "metadata": {
    "id": "vGGUP3GboZM0"
   },
   "outputs": [],
   "source": [
    "my_context = '''Neoclassical economics views inequalities in the distribution of income as arising from differences in value added by labor, capital and land. Within labor income distribution is due to differences in value added by different classifications of workers. In this perspective, wages and profits are determined by the marginal value added of each economic actor (worker, capitalist/business owner, landlord). Thus, in a market economy, inequality is a reflection of the productivity gap between highly-paid professions and lower-paid professions.'''"
   ]
  },
  {
   "cell_type": "markdown",
   "metadata": {
    "id": "oXhqIdQPodkp"
   },
   "source": [
    "Neoclassical economics views inequalities in the distribution of income as arising from differences in value added by labor, capital and land. Within labor income distribution is due to differences in value added by different classifications of workers. In this perspective, wages and profits are determined by the marginal value added of each economic actor (worker, capitalist/business owner, landlord). Thus, in a market economy, inequality is a reflection of the productivity gap between highly-paid professions and lower-paid professions."
   ]
  },
  {
   "cell_type": "code",
   "execution_count": null,
   "metadata": {
    "id": "3V9PnJfnod91"
   },
   "outputs": [],
   "source": [
    "#my_question = '''What philosophy of thought addresses wealth inequality?'''\n",
    "my_question = '''What are examples of economic actors?'''\n",
    "#my_question = '''In a market economy, what is inequality a reflection of?'''"
   ]
  },
  {
   "cell_type": "code",
   "execution_count": null,
   "metadata": {
    "id": "LLUuVC2cogIe"
   },
   "outputs": [],
   "source": [
    "my_input_dict, my_context_words, context_tok_to_word_id, question_tok_len = create_input_dict(my_question, my_context)"
   ]
  },
  {
   "cell_type": "markdown",
   "metadata": {
    "id": "_MruMEfCok4r"
   },
   "source": [
    "### Prediction"
   ]
  },
  {
   "cell_type": "code",
   "execution_count": null,
   "metadata": {
    "id": "dezu_1EYolUb"
   },
   "outputs": [],
   "source": [
    "start_logits, end_logits = bert_squad(my_input_dict, training=False)"
   ]
  },
  {
   "cell_type": "markdown",
   "metadata": {
    "id": "VM_-Kq7aoqzL"
   },
   "source": [
    "### Interpretation"
   ]
  },
  {
   "cell_type": "markdown",
   "metadata": {
    "id": "oQZYeYZNouCj"
   },
   "source": [
    "We remove the ids corresponding to the question and the `[\"SEP\"]` token:"
   ]
  },
  {
   "cell_type": "code",
   "execution_count": null,
   "metadata": {
    "id": "UrXxyzvDouaX"
   },
   "outputs": [],
   "source": [
    "start_logits_context = start_logits.numpy()[0, question_tok_len+1:]\n",
    "end_logits_context = end_logits.numpy()[0, question_tok_len+1:]"
   ]
  },
  {
   "cell_type": "markdown",
   "metadata": {
    "id": "KWdYHM02oybH"
   },
   "source": [
    "First easy interpretation:"
   ]
  },
  {
   "cell_type": "code",
   "execution_count": null,
   "metadata": {
    "id": "EiICXEyPozs2"
   },
   "outputs": [],
   "source": [
    "start_word_id = context_tok_to_word_id[np.argmax(start_logits_context)]\n",
    "end_word_id = context_tok_to_word_id[np.argmax(end_logits_context)]"
   ]
  },
  {
   "cell_type": "markdown",
   "metadata": {
    "id": "WHFePqwso4pw"
   },
   "source": [
    "\"Advanced\" - making sure that the start of the answer is before the end:"
   ]
  },
  {
   "cell_type": "code",
   "execution_count": null,
   "metadata": {
    "id": "Aon-dZObo4-b"
   },
   "outputs": [],
   "source": [
    "pair_scores = np.ones((len(start_logits_context), len(end_logits_context)))*(-1E10)\n",
    "for i in range(len(start_logits_context-1)):\n",
    "    for j in range(i, len(end_logits_context)):\n",
    "        pair_scores[i, j] = start_logits_context[i] + end_logits_context[j]\n",
    "pair_scores_argmax = np.argmax(pair_scores)"
   ]
  },
  {
   "cell_type": "code",
   "execution_count": null,
   "metadata": {
    "id": "Cd9z7Fkno60I"
   },
   "outputs": [],
   "source": [
    "start_word_id = context_tok_to_word_id[pair_scores_argmax // len(start_logits_context)]\n",
    "end_word_id = context_tok_to_word_id[pair_scores_argmax % len(end_logits_context)]"
   ]
  },
  {
   "cell_type": "markdown",
   "metadata": {
    "id": "0jXqsI6OpDCr"
   },
   "source": [
    "Final answer:"
   ]
  },
  {
   "cell_type": "code",
   "execution_count": null,
   "metadata": {
    "id": "HbMY0f1RpDbG"
   },
   "outputs": [],
   "source": [
    "predicted_answer = ' '.join(my_context_words[start_word_id:end_word_id+1])\n",
    "print(\"The answer to:\\n\" + my_question + \"\\nis:\\n\" + predicted_answer)"
   ]
  },
  {
   "cell_type": "code",
   "execution_count": null,
   "metadata": {
    "id": "gJS_P77epFC0"
   },
   "outputs": [],
   "source": [
    "from IPython.core.display import HTML\n",
    "display(HTML(f'<h2>{my_question.upper()}</h2>'))\n",
    "marked_text = str(my_context.replace(predicted_answer, f\"<mark>{predicted_answer}</mark>\"))\n",
    "display(HTML(f\"\"\"<blockquote> {marked_text} </blockquote>\"\"\"))"
   ]
  },
  {
   "cell_type": "code",
   "execution_count": null,
   "metadata": {
    "id": "awR4xgghpGk0"
   },
   "outputs": [],
   "source": []
  }
 ],
 "metadata": {
  "accelerator": "TPU",
  "colab": {
   "authorship_tag": "ABX9TyME8UoFcUu/GHTT+W4Wq/kU",
   "include_colab_link": true,
   "name": "BERT_squad",
   "provenance": []
  },
  "kernelspec": {
   "display_name": "Python 3 (ipykernel)",
   "language": "python",
   "name": "python3"
  },
  "language_info": {
   "codemirror_mode": {
    "name": "ipython",
    "version": 3
   },
   "file_extension": ".py",
   "mimetype": "text/x-python",
   "name": "python",
   "nbconvert_exporter": "python",
   "pygments_lexer": "ipython3",
   "version": "3.11.4"
  }
 },
 "nbformat": 4,
 "nbformat_minor": 1
}
