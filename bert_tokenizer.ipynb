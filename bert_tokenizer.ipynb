{
  "nbformat": 4,
  "nbformat_minor": 0,
  "metadata": {
    "colab": {
      "name": "bert_tokenizer",
      "provenance": [],
      "collapsed_sections": [],
      "authorship_tag": "ABX9TyOlguuE7htGKaNUR7DTlvzw",
      "include_colab_link": true
    },
    "kernelspec": {
      "name": "python3",
      "display_name": "Python 3"
    },
    "language_info": {
      "name": "python"
    },
    "accelerator": "TPU"
  },
  "cells": [
    {
      "cell_type": "markdown",
      "metadata": {
        "id": "view-in-github",
        "colab_type": "text"
      },
      "source": [
        "<a href=\"https://colab.research.google.com/github/gk19989/NLP/blob/main/bert_tokenizer.ipynb\" target=\"_parent\"><img src=\"https://colab.research.google.com/assets/colab-badge.svg\" alt=\"Open In Colab\"/></a>"
      ]
    },
    {
      "cell_type": "markdown",
      "metadata": {
        "id": "2g5IP23xNpLX"
      },
      "source": [
        "**Stage-1: Importing Dependencies**"
      ]
    },
    {
      "cell_type": "code",
      "metadata": {
        "id": "R5qQPTGsNuvM"
      },
      "source": [
        "import numpy as np\n",
        "import math\n",
        "import re\n",
        "import pandas as pd\n",
        "from bs4 import BeautifulSoup\n",
        "import random\n",
        "\n",
        "from google.colab import drive"
      ],
      "execution_count": null,
      "outputs": []
    },
    {
      "cell_type": "code",
      "metadata": {
        "colab": {
          "base_uri": "https://localhost:8080/"
        },
        "id": "sEXC5CS7Ok_j",
        "outputId": "ff742ed8-9826-435d-9fa5-bb166caf8d47"
      },
      "source": [
        "!pip install bert-for-tf2\n",
        "!pip install sentencepiece"
      ],
      "execution_count": null,
      "outputs": [
        {
          "output_type": "stream",
          "name": "stdout",
          "text": [
            "Collecting bert-for-tf2\n",
            "  Downloading bert-for-tf2-0.14.9.tar.gz (41 kB)\n",
            "\u001b[?25l\r\u001b[K     |████████                        | 10 kB 24.1 MB/s eta 0:00:01\r\u001b[K     |████████████████                | 20 kB 26.4 MB/s eta 0:00:01\r\u001b[K     |███████████████████████▉        | 30 kB 11.2 MB/s eta 0:00:01\r\u001b[K     |███████████████████████████████▉| 40 kB 9.1 MB/s eta 0:00:01\r\u001b[K     |████████████████████████████████| 41 kB 110 kB/s \n",
            "\u001b[?25hCollecting py-params>=0.9.6\n",
            "  Downloading py-params-0.10.2.tar.gz (7.4 kB)\n",
            "Collecting params-flow>=0.8.0\n",
            "  Downloading params-flow-0.8.2.tar.gz (22 kB)\n",
            "Requirement already satisfied: numpy in /usr/local/lib/python3.7/dist-packages (from params-flow>=0.8.0->bert-for-tf2) (1.19.5)\n",
            "Requirement already satisfied: tqdm in /usr/local/lib/python3.7/dist-packages (from params-flow>=0.8.0->bert-for-tf2) (4.62.3)\n",
            "Building wheels for collected packages: bert-for-tf2, params-flow, py-params\n",
            "  Building wheel for bert-for-tf2 (setup.py) ... \u001b[?25l\u001b[?25hdone\n",
            "  Created wheel for bert-for-tf2: filename=bert_for_tf2-0.14.9-py3-none-any.whl size=30534 sha256=592dca91cb3deb9d37b251f99bb106d96eb905268d6d64cf93f380717916accc\n",
            "  Stored in directory: /root/.cache/pip/wheels/47/b6/e5/8c76ec779f54bc5c2f1b57d2200bb9c77616da83873e8acb53\n",
            "  Building wheel for params-flow (setup.py) ... \u001b[?25l\u001b[?25hdone\n",
            "  Created wheel for params-flow: filename=params_flow-0.8.2-py3-none-any.whl size=19473 sha256=03a9ab024aba62bd21c1deafd9116754319362dc0451445db664bdf8ef9c25b4\n",
            "  Stored in directory: /root/.cache/pip/wheels/0e/fc/d2/a44fff33af0f233d7def6e7de413006d57c10e10ad736fe8f5\n",
            "  Building wheel for py-params (setup.py) ... \u001b[?25l\u001b[?25hdone\n",
            "  Created wheel for py-params: filename=py_params-0.10.2-py3-none-any.whl size=7912 sha256=5ceb46d77ec83331f82df0082127ed0f0a6f6393add38a46b3c8c61bdd505808\n",
            "  Stored in directory: /root/.cache/pip/wheels/e1/11/67/33cc51bbee127cb8fb2ba549cd29109b2f22da43ddf9969716\n",
            "Successfully built bert-for-tf2 params-flow py-params\n",
            "Installing collected packages: py-params, params-flow, bert-for-tf2\n",
            "Successfully installed bert-for-tf2-0.14.9 params-flow-0.8.2 py-params-0.10.2\n",
            "Collecting sentencepiece\n",
            "  Downloading sentencepiece-0.1.96-cp37-cp37m-manylinux_2_17_x86_64.manylinux2014_x86_64.whl (1.2 MB)\n",
            "\u001b[K     |████████████████████████████████| 1.2 MB 5.4 MB/s \n",
            "\u001b[?25hInstalling collected packages: sentencepiece\n",
            "Successfully installed sentencepiece-0.1.96\n"
          ]
        }
      ]
    },
    {
      "cell_type": "code",
      "metadata": {
        "id": "9zmQYOrbPhAI"
      },
      "source": [
        "try:\n",
        "    %tensorflow_version 2.x\n",
        "except Exception: \n",
        "    pass"
      ],
      "execution_count": null,
      "outputs": []
    },
    {
      "cell_type": "code",
      "metadata": {
        "id": "SnMqoNRjP1df"
      },
      "source": [
        "import tensorflow as tf\n",
        "import tensorflow_hub as hub\n",
        "from tensorflow.keras import layers\n",
        "import bert"
      ],
      "execution_count": null,
      "outputs": []
    },
    {
      "cell_type": "markdown",
      "metadata": {
        "id": "LYNO2yigRZrM"
      },
      "source": [
        "**Stage-2 Loading Data**"
      ]
    },
    {
      "cell_type": "code",
      "metadata": {
        "colab": {
          "base_uri": "https://localhost:8080/"
        },
        "id": "X4OAeMMfRAd1",
        "outputId": "a1d8914c-50ce-493c-9b38-c992c958893f"
      },
      "source": [
        "drive.mount(\"/content/drive\")"
      ],
      "execution_count": null,
      "outputs": [
        {
          "output_type": "stream",
          "name": "stdout",
          "text": [
            "Mounted at /content/drive\n"
          ]
        }
      ]
    },
    {
      "cell_type": "code",
      "metadata": {
        "colab": {
          "base_uri": "https://localhost:8080/"
        },
        "id": "I2f5u5ynR-25",
        "outputId": "5f2531c3-36cc-43f4-a47d-5655c53bc221"
      },
      "source": [
        "from google.colab import drive\n",
        "drive.mount('/content/drive')"
      ],
      "execution_count": null,
      "outputs": [
        {
          "output_type": "stream",
          "name": "stdout",
          "text": [
            "Drive already mounted at /content/drive; to attempt to forcibly remount, call drive.mount(\"/content/drive\", force_remount=True).\n"
          ]
        }
      ]
    },
    {
      "cell_type": "code",
      "metadata": {
        "id": "NRsbB7dRRvi6"
      },
      "source": [
        "cols = [\"sentiment\", \"id\", \"date\", \"query\", \"user\", \"text\"]\n",
        "data = pd.read_csv(\"/content/drive/MyDrive/Projects/BERT/sentiment_data/train.csv\",\n",
        "                   header = None,\n",
        "                   names = cols,\n",
        "                   engine = \"python\",\n",
        "                   encoding = \"latin1\")"
      ],
      "execution_count": null,
      "outputs": []
    },
    {
      "cell_type": "code",
      "metadata": {
        "id": "UNLtl_GeTVTq"
      },
      "source": [
        "data.drop([\"id\", \"date\", \"query\", \"user\"],\n",
        "          axis=1,\n",
        "          inplace=True)"
      ],
      "execution_count": null,
      "outputs": []
    },
    {
      "cell_type": "code",
      "metadata": {
        "colab": {
          "base_uri": "https://localhost:8080/",
          "height": 204
        },
        "id": "vE4RXa8_TnxF",
        "outputId": "e97b2573-07c7-4a20-d3d8-9964b01b056c"
      },
      "source": [
        "data.head()"
      ],
      "execution_count": null,
      "outputs": [
        {
          "output_type": "execute_result",
          "data": {
            "text/html": [
              "<div>\n",
              "<style scoped>\n",
              "    .dataframe tbody tr th:only-of-type {\n",
              "        vertical-align: middle;\n",
              "    }\n",
              "\n",
              "    .dataframe tbody tr th {\n",
              "        vertical-align: top;\n",
              "    }\n",
              "\n",
              "    .dataframe thead th {\n",
              "        text-align: right;\n",
              "    }\n",
              "</style>\n",
              "<table border=\"1\" class=\"dataframe\">\n",
              "  <thead>\n",
              "    <tr style=\"text-align: right;\">\n",
              "      <th></th>\n",
              "      <th>sentiment</th>\n",
              "      <th>text</th>\n",
              "    </tr>\n",
              "  </thead>\n",
              "  <tbody>\n",
              "    <tr>\n",
              "      <th>0</th>\n",
              "      <td>0</td>\n",
              "      <td>@switchfoot http://twitpic.com/2y1zl - Awww, t...</td>\n",
              "    </tr>\n",
              "    <tr>\n",
              "      <th>1</th>\n",
              "      <td>0</td>\n",
              "      <td>is upset that he can't update his Facebook by ...</td>\n",
              "    </tr>\n",
              "    <tr>\n",
              "      <th>2</th>\n",
              "      <td>0</td>\n",
              "      <td>@Kenichan I dived many times for the ball. Man...</td>\n",
              "    </tr>\n",
              "    <tr>\n",
              "      <th>3</th>\n",
              "      <td>0</td>\n",
              "      <td>my whole body feels itchy and like its on fire</td>\n",
              "    </tr>\n",
              "    <tr>\n",
              "      <th>4</th>\n",
              "      <td>0</td>\n",
              "      <td>@nationwideclass no, it's not behaving at all....</td>\n",
              "    </tr>\n",
              "  </tbody>\n",
              "</table>\n",
              "</div>"
            ],
            "text/plain": [
              "   sentiment                                               text\n",
              "0          0  @switchfoot http://twitpic.com/2y1zl - Awww, t...\n",
              "1          0  is upset that he can't update his Facebook by ...\n",
              "2          0  @Kenichan I dived many times for the ball. Man...\n",
              "3          0    my whole body feels itchy and like its on fire \n",
              "4          0  @nationwideclass no, it's not behaving at all...."
            ]
          },
          "metadata": {},
          "execution_count": 9
        }
      ]
    },
    {
      "cell_type": "markdown",
      "metadata": {
        "id": "Gu7h7mzNUYTT"
      },
      "source": [
        "**Cleaning Data**"
      ]
    },
    {
      "cell_type": "code",
      "metadata": {
        "id": "txQrARAlUcoi"
      },
      "source": [
        "def clean_tweet(tweet):\n",
        "    tweet = BeautifulSoup(tweet, \"lxml\").get_text()\n",
        "    tweet = re.sub(r\"@[A-Za-z0-9]+\", ' ', tweet)\n",
        "    tweet = re.sub(r\"https?://[A-Za-z0-9./]+\", ' ', tweet)\n",
        "    tweet = re.sub(r\"[^A-Za-z.!?]\", ' ', tweet)\n",
        "    tweet = re.sub(r\" +\", ' ', tweet)\n",
        "    return tweet"
      ],
      "execution_count": null,
      "outputs": []
    },
    {
      "cell_type": "code",
      "metadata": {
        "id": "r_cLnND_Xf6z"
      },
      "source": [
        "data_clean = [clean_tweet(tweet) for tweet in data.text]"
      ],
      "execution_count": null,
      "outputs": []
    },
    {
      "cell_type": "code",
      "metadata": {
        "id": "KfnKOVKqXuv_"
      },
      "source": [
        "data_labels = data.sentiment.values\n",
        "data_labels[data_labels == 4] = 1"
      ],
      "execution_count": null,
      "outputs": []
    },
    {
      "cell_type": "markdown",
      "metadata": {
        "id": "GsiDX37RYzbO"
      },
      "source": [
        "**Tokenization**"
      ]
    },
    {
      "cell_type": "code",
      "metadata": {
        "id": "NRwWMCgQY3P7"
      },
      "source": [
        "FullTokenizer = bert.bert_tokenization.FullTokenizer\n",
        "bert_layer = hub.KerasLayer(\"https://tfhub.dev/tensorflow/bert_en_uncased_L-12_H-768_A-12/4\", \n",
        "                            trainable=False)\n",
        "vocab_file = bert_layer.resolved_object.vocab_file.asset_path.numpy()\n",
        "do_lower_case = bert_layer.resolved_object.do_lower_case.numpy()\n",
        "tokenizer = FullTokenizer(vocab_file, do_lower_case)"
      ],
      "execution_count": null,
      "outputs": []
    },
    {
      "cell_type": "code",
      "metadata": {
        "colab": {
          "base_uri": "https://localhost:8080/"
        },
        "id": "7nu6NSymc8wF",
        "outputId": "c529e4e2-94a1-460d-e805-a5deb7c822cd"
      },
      "source": [
        "tokenizer.tokenize(\"My dog loves chicken.. haha..\")"
      ],
      "execution_count": null,
      "outputs": [
        {
          "output_type": "execute_result",
          "data": {
            "text/plain": [
              "['my', 'dog', 'loves', 'chicken', '.', '.', 'ha', '##ha', '.', '.']"
            ]
          },
          "metadata": {},
          "execution_count": 14
        }
      ]
    },
    {
      "cell_type": "code",
      "metadata": {
        "id": "DWSpAGfAdcOD"
      },
      "source": [
        "def encode_sentence(sent):\n",
        "    return tokenizer.convert_tokens_to_ids(tokenizer.tokenize(sent))"
      ],
      "execution_count": null,
      "outputs": []
    },
    {
      "cell_type": "code",
      "metadata": {
        "id": "LsRjYBM-eO4x"
      },
      "source": [
        "data_inputs = [encode_sentence(sentence) for sentence in data_clean]"
      ],
      "execution_count": null,
      "outputs": []
    },
    {
      "cell_type": "markdown",
      "metadata": {
        "id": "Xzb2_bzdhs5v"
      },
      "source": [
        "**Dataset Creation**"
      ]
    },
    {
      "cell_type": "code",
      "metadata": {
        "id": "TjH4CD_Mhw7T"
      },
      "source": [
        "data_with_len = [[sent, data_labels[i], len(sent)]\n",
        "                 for i, sent in enumerate(data_inputs)]"
      ],
      "execution_count": null,
      "outputs": []
    },
    {
      "cell_type": "code",
      "metadata": {
        "id": "bhiSntqziDPr"
      },
      "source": [
        "random.shuffle(data_with_len)"
      ],
      "execution_count": null,
      "outputs": []
    },
    {
      "cell_type": "code",
      "metadata": {
        "id": "fJQK0aP_iIAZ"
      },
      "source": [
        "data_with_len.sort(key=lambda x: x[2])"
      ],
      "execution_count": null,
      "outputs": []
    },
    {
      "cell_type": "code",
      "metadata": {
        "id": "AkxDyX2zigW3"
      },
      "source": [
        "sorted_all = [(sent_lab[0], sent_lab[1]) for sent_lab in data_with_len if sent_lab[2] > 7]"
      ],
      "execution_count": null,
      "outputs": []
    },
    {
      "cell_type": "code",
      "metadata": {
        "colab": {
          "base_uri": "https://localhost:8080/"
        },
        "id": "nSf1BkrojMEi",
        "outputId": "ed61ef46-9e32-4a8d-ff9e-35a383180574"
      },
      "source": [
        "sorted_all[0]"
      ],
      "execution_count": null,
      "outputs": [
        {
          "output_type": "execute_result",
          "data": {
            "text/plain": [
              "([2417, 28765, 2290, 5446, 2622, 2005, 4469, 4923], 1)"
            ]
          },
          "metadata": {},
          "execution_count": 21
        }
      ]
    },
    {
      "cell_type": "code",
      "metadata": {
        "id": "bpV_BURbjO9u"
      },
      "source": [
        "all_dataset = tf.data.Dataset.from_generator(lambda: sorted_all, \n",
        "                                             output_types = (tf.int32, tf.int32))"
      ],
      "execution_count": null,
      "outputs": []
    },
    {
      "cell_type": "code",
      "metadata": {
        "colab": {
          "base_uri": "https://localhost:8080/"
        },
        "id": "zEP__DTRkv2m",
        "outputId": "5aad3b46-9811-4080-ea1b-9cdf4c4c18e9"
      },
      "source": [
        "next(iter(all_dataset))"
      ],
      "execution_count": null,
      "outputs": [
        {
          "output_type": "execute_result",
          "data": {
            "text/plain": [
              "(<tf.Tensor: shape=(8,), dtype=int32, numpy=\n",
              " array([ 2417, 28765,  2290,  5446,  2622,  2005,  4469,  4923],\n",
              "       dtype=int32)>, <tf.Tensor: shape=(), dtype=int32, numpy=1>)"
            ]
          },
          "metadata": {},
          "execution_count": 23
        }
      ]
    },
    {
      "cell_type": "code",
      "metadata": {
        "id": "VSPD_cvDkyJ-"
      },
      "source": [
        "BATCH_SIZE = 32\n",
        "all_batched = all_dataset.padded_batch(BATCH_SIZE, padded_shapes=((None, ),()))"
      ],
      "execution_count": null,
      "outputs": []
    },
    {
      "cell_type": "code",
      "metadata": {
        "colab": {
          "base_uri": "https://localhost:8080/"
        },
        "id": "VaAHDd7Um70f",
        "outputId": "dbd9a7b3-5955-43f2-980c-e269422bd00a"
      },
      "source": [
        "next(iter(all_batched))"
      ],
      "execution_count": null,
      "outputs": [
        {
          "output_type": "execute_result",
          "data": {
            "text/plain": [
              "(<tf.Tensor: shape=(32, 8), dtype=int32, numpy=\n",
              " array([[ 2417, 28765,  2290,  5446,  2622,  2005,  4469,  4923],\n",
              "        [22091,  2860,  1045,  3246,  2017,  2514,  2488,  2574],\n",
              "        [ 2350, 28516,  3291,  1012,  2054,  1037,  2166,  1012],\n",
              "        [ 3407,  5798,  3566,  1045,  2293,  2017,   999,   999],\n",
              "        [ 2053,  2057,  2024,  2012,  5726,  6770,  1012,  3374],\n",
              "        [ 2045,  2024, 16111,  2006,  2026,  8840,  6894, 16340],\n",
              "        [13132,  2038,  2000,  2022,  2028,  1997,  2026, 20672],\n",
              "        [ 2026,  2406,  7861,  8237,  8180,  8583,  2033,  2823],\n",
              "        [ 1999, 26353,  2007,  2026,  2567,  1998,  1996,  2137],\n",
              "        [ 2054,  2015,  1996,  4957,  2000,  3789,  1029,  1060],\n",
              "        [ 1061,  2099,  2053,  2721,  5391,  8134,  4826,  1012],\n",
              "        [ 2018,  2379,  2331,  6322,  1999,  2847,  1012,  1060],\n",
              "        [ 2021,  2009,  2001,  2126,  2205,  2172,  2833,  1012],\n",
              "        [ 2748,  4757,  4757,  8692,  3185,  2982,  4826,  2305],\n",
              "        [15775, 24860, 16523,  3593,  2417,  2003,  1996,  2190],\n",
              "        [ 1045,  2064,  1056,  2156,  2115, 27263,  4902,   999],\n",
              "        [ 2307,  4633,  2000,  6350,  2648,  1999,  1996,  3103],\n",
              "        [ 2012,  2560,  2057,  2145,  2288, 10474,  2000, 10639],\n",
              "        [ 1055,  3611,  2056,  2016,  4165,  7459, 16344, 12722],\n",
              "        [ 8840,  2140,  1012,  7929,  2292,  2033,  2113,  1012],\n",
              "        [10974,  3051,  2017,  3100,  2100,  1029,  1029, 22038],\n",
              "        [ 2393,  2033,  1045,  2123,  1056,  2131,  2009,  5064],\n",
              "        [25628, 15640,  2765,  1045,  2428,  4669,  6506,  2666],\n",
              "        [11465, 13433,  4609,  6129,  1055, 11231, 24989,  2851],\n",
              "        [ 2062, 14780,  2009,  1055,  2026,  5798,   999,   999],\n",
              "        [ 9851, 15180,   999,  5292,  3270, 24471,  2061, 14036],\n",
              "        [ 4542,  4542,  2175,  2185,  2272,  2153,  2178,  2154],\n",
              "        [22795,  2039,  2011,  1996,  2614,  1997, 15827,  2648],\n",
              "        [ 2748,   999,  4157,  2001,  2941,  5552,  2005,  2033],\n",
              "        [ 1045,  1049,  2125,  1012,  1045,  2031,  2465,  1012],\n",
              "        [ 2025,  2172,  1012,  2183,  2000,  2360,  9119,  2000],\n",
              "        [ 1996,  2358,  9541,  8449,  2024,  2006, 10474,  1012]],\n",
              "       dtype=int32)>, <tf.Tensor: shape=(32,), dtype=int32, numpy=\n",
              " array([1, 0, 1, 1, 0, 0, 1, 0, 1, 1, 1, 0, 1, 1, 1, 0, 1, 1, 1, 0, 1, 0,\n",
              "        0, 1, 0, 1, 0, 0, 1, 0, 0, 1], dtype=int32)>)"
            ]
          },
          "metadata": {},
          "execution_count": 25
        }
      ]
    },
    {
      "cell_type": "code",
      "metadata": {
        "id": "eyVUV_vFm-cT"
      },
      "source": [
        "NB_BATCHES = math.ceil(len(sorted_all) / BATCH_SIZE)\n",
        "NB_BATCHES_TEST = NB_BATCHES // 10\n",
        "all_batched.shuffle(NB_BATCHES)\n",
        "test_dataset = all_batched.take(NB_BATCHES_TEST)\n",
        "train_dataset = all_batched.skip(NB_BATCHES_TEST)"
      ],
      "execution_count": null,
      "outputs": []
    },
    {
      "cell_type": "markdown",
      "metadata": {
        "id": "_K2EqRkNqO3l"
      },
      "source": [
        "**Model Building**"
      ]
    },
    {
      "cell_type": "code",
      "metadata": {
        "id": "BcMZ1YZaqSxi"
      },
      "source": [
        "class DCNN(tf.keras.Model):\n",
        "    \n",
        "    def __init__(self,\n",
        "                 vocab_size,\n",
        "                 emb_dim = 128,\n",
        "                 nb_filters = 50,\n",
        "                 FFN_units = 512,\n",
        "                 nb_classes = 2,\n",
        "                 dropout_rate = 0.1,\n",
        "                 training = False,\n",
        "                 name = \"dcnn\"):\n",
        "        super(DCNN, self).__init__(name=name)\n",
        "\n",
        "        self.embedding = layers.Embedding(vocab_size, emb_dim)\n",
        "\n",
        "        self.bigram = layers.Conv1D(filters=nb_filters,\n",
        "                                    kernel_size = 2,\n",
        "                                    padding = \"valid\",\n",
        "                                    activation = \"relu\")\n",
        "        self.trigram = layers.Conv1D(filters=nb_filters,\n",
        "                                    kernel_size = 3,\n",
        "                                    padding = \"valid\",\n",
        "                                    activation = \"relu\")\n",
        "        self.fourgram = layers.Conv1D(filters=nb_filters,\n",
        "                                    kernel_size = 4,\n",
        "                                    padding = \"valid\",\n",
        "                                    activation = \"relu\")\n",
        "        self.pool = layers.GlobalMaxPool1D()\n",
        "\n",
        "        self.dense_1 = layers.Dense(units=FFN_units,\n",
        "                                    activation=\"relu\")\n",
        "        \n",
        "        self.dropout = layers.Dropout(rate=dropout_rate)\n",
        "\n",
        "        if nb_classes == 2:\n",
        "            self.last_dense = layers.Dense(units=1,\n",
        "                                           activation=\"sigmoid\")\n",
        "        else:\n",
        "            self.last_dense = layers.Dense(units=nb_classes,\n",
        "                                           activation=\"softmax\")\n",
        "            \n",
        "\n",
        "    \n",
        "    def call(self, inputs, training):\n",
        "        x = self.embedding(inputs)\n",
        "        x_1 = self.bigram(x)\n",
        "        x_1 = self.pool(x_1)\n",
        "        x_2 = self.trigram(x)\n",
        "        x_2 = self.pool(x_2)\n",
        "        x_3 = self.fourgram(x)\n",
        "        x_3 = self.pool(x_3)\n",
        "\n",
        "        merged = tf.concat([x_1, x_2, x_3], axis=-1)\n",
        "        merged = self.dense_1(merged)\n",
        "        merged = self.dropout(merged, training)\n",
        "        output = self.last_dense(merged)\n",
        "\n",
        "        return output\n"
      ],
      "execution_count": null,
      "outputs": []
    },
    {
      "cell_type": "code",
      "metadata": {
        "id": "KGA9IIAYyLDh"
      },
      "source": [
        ""
      ],
      "execution_count": null,
      "outputs": []
    },
    {
      "cell_type": "code",
      "metadata": {
        "id": "qNnveS42PJFn"
      },
      "source": [
        "VOCAB_SIZE = len(tokenizer.vocab)\n",
        "EMB_DIM = 200\n",
        "NB_FILTERS = 100\n",
        "FFN_UNITS = 256\n",
        "NB_CLASSES = 2\n",
        "\n",
        "DROPOUT_RATE = 0.2\n",
        "NB_EPOCHS = 5\n"
      ],
      "execution_count": null,
      "outputs": []
    },
    {
      "cell_type": "code",
      "metadata": {
        "id": "ucRvSzX1P5fE"
      },
      "source": [
        "Dcnn = DCNN(vocab_size = VOCAB_SIZE,\n",
        "            emb_dim = EMB_DIM,\n",
        "            nb_filters = NB_FILTERS,\n",
        "            FFN_units = FFN_UNITS,\n",
        "            nb_classes = NB_CLASSES,\n",
        "            dropout_rate = DROPOUT_RATE)"
      ],
      "execution_count": null,
      "outputs": []
    },
    {
      "cell_type": "code",
      "metadata": {
        "id": "ZfIiCTzkWBz0"
      },
      "source": [
        "if NB_CLASSES == 2:\n",
        "    Dcnn.compile(loss=\"binary_crossentropy\",\n",
        "                  optimizer=\"adam\",\n",
        "                 metrics=[\"accuracy\"])\n",
        "else:\n",
        "    Dcnn.compile(loss=\"sparse_categorical_crossentropy\",\n",
        "                optimizer=\"adam\",\n",
        "                 metrics=[\"sparse_categorical_accuracy\"])"
      ],
      "execution_count": null,
      "outputs": []
    },
    {
      "cell_type": "code",
      "metadata": {
        "id": "oNDoyTzjOTPV"
      },
      "source": [
        "checkpoint_path = \"/content/drive/MyDrive/Projects/BERT/ckpt_bert_tok\"\n",
        "\n",
        "ckpt = tf.train.Checkpoint(Dcnn = Dcnn)\n",
        "\n",
        "ckpt_manager = tf.train.CheckpointManager(ckpt, checkpoint_path, max_to_keep=1)\n",
        "\n",
        "if ckpt_manager.latest_checkpoint:\n",
        "    ckpt.restore(ckpt_manager.latest_checkpoint)\n",
        "    print(\"latest check_point has been restored\")\n"
      ],
      "execution_count": null,
      "outputs": []
    },
    {
      "cell_type": "code",
      "metadata": {
        "id": "YHGsryIkPf0b"
      },
      "source": [
        "class MyCustomCallback(tf.keras.callbacks.Callback):\n",
        "\n",
        "    def on_epoch_end(self, epoch, logs=None):\n",
        "        ckpt_manager.save()\n",
        "        print(\"Checkpoint saved at {}\".format(checkpoint_path))"
      ],
      "execution_count": null,
      "outputs": []
    },
    {
      "cell_type": "code",
      "metadata": {
        "colab": {
          "base_uri": "https://localhost:8080/"
        },
        "id": "I56T4NNtQs35",
        "outputId": "1ab7c8a1-fb38-4162-a8c8-24fb934b246d"
      },
      "source": [
        "Dcnn.fit(train_dataset,\n",
        "         epochs=NB_EPOCHS,\n",
        "         callbacks=[MyCustomCallback()])"
      ],
      "execution_count": null,
      "outputs": [
        {
          "output_type": "stream",
          "name": "stdout",
          "text": [
            "Epoch 1/5\n",
            "36913/36913 [==============================] - 3686s 99ms/step - loss: 0.4295 - accuracy: 0.8025\n",
            "Checkpoint saved at /content/drive/MyDrive/Projects/BERT/ckpt_bert_tok\n",
            "Epoch 2/5\n",
            "36913/36913 [==============================] - 3678s 99ms/step - loss: 0.3816 - accuracy: 0.8304\n",
            "Checkpoint saved at /content/drive/MyDrive/Projects/BERT/ckpt_bert_tok\n",
            "Epoch 3/5\n",
            "36913/36913 [==============================] - 3662s 99ms/step - loss: 0.3416 - accuracy: 0.8518\n",
            "Checkpoint saved at /content/drive/MyDrive/Projects/BERT/ckpt_bert_tok\n",
            "Epoch 4/5\n",
            "36913/36913 [==============================] - 3658s 99ms/step - loss: 0.3005 - accuracy: 0.8720\n",
            "Checkpoint saved at /content/drive/MyDrive/Projects/BERT/ckpt_bert_tok\n",
            "Epoch 5/5\n",
            "36913/36913 [==============================] - 3658s 99ms/step - loss: 0.2623 - accuracy: 0.8894\n",
            "Checkpoint saved at /content/drive/MyDrive/Projects/BERT/ckpt_bert_tok\n"
          ]
        },
        {
          "output_type": "execute_result",
          "data": {
            "text/plain": [
              "<keras.callbacks.History at 0x7f6808dc2750>"
            ]
          },
          "metadata": {},
          "execution_count": 36
        }
      ]
    },
    {
      "cell_type": "markdown",
      "metadata": {
        "id": "nNW-yKfbRh_b"
      },
      "source": [
        "**Stage-5: Evaluation**"
      ]
    },
    {
      "cell_type": "code",
      "metadata": {
        "colab": {
          "base_uri": "https://localhost:8080/"
        },
        "id": "ULVblKXJRn94",
        "outputId": "8b6177a6-6873-4521-d4e3-92da16e692e0"
      },
      "source": [
        "results = Dcnn.evaluate(test_dataset)\n",
        "print(results)"
      ],
      "execution_count": null,
      "outputs": [
        {
          "output_type": "stream",
          "name": "stdout",
          "text": [
            "4101/4101 [==============================] - 43s 10ms/step - loss: 0.4375 - accuracy: 0.8321\n",
            "[0.43745726346969604, 0.8321293592453003]\n"
          ]
        }
      ]
    },
    {
      "cell_type": "code",
      "metadata": {
        "id": "DidztmvAh_ZG"
      },
      "source": [
        "def get_prediction(sentence):\n",
        "    tokens = encode_sentence(sentence)\n",
        "    inputs = tf.expand_dims(tokens, 0) #this is to simulate batch input\n",
        "\n",
        "    output = Dcnn(inputs,training = False)\n",
        "\n",
        "    sentimemt = math.floor(output * 2) #as the output is btw o & 1 we make it btw 0 & 2, 1 being division line\n",
        "\n",
        "    if sentimemt == 0:\n",
        "        print(\"Output of the model: {}\\nPredicted sentimemt: negative.\".format(output))\n",
        "    elif sentimemt == 1:\n",
        "        print(\"Output of the model: {}\\nPredicted sentiment: positive.\".format(output))\n"
      ],
      "execution_count": null,
      "outputs": []
    },
    {
      "cell_type": "code",
      "metadata": {
        "colab": {
          "base_uri": "https://localhost:8080/"
        },
        "id": "0nmlP7T3lae7",
        "outputId": "c177db2c-38d3-48cc-ca29-221f16865115"
      },
      "source": [
        "get_prediction(\"This movie was pretty interesting!\")"
      ],
      "execution_count": null,
      "outputs": [
        {
          "output_type": "stream",
          "name": "stdout",
          "text": [
            "Output of the model: [[0.9999138]]\n",
            "Predicted sentiment: positive.\n"
          ]
        }
      ]
    },
    {
      "cell_type": "code",
      "metadata": {
        "colab": {
          "base_uri": "https://localhost:8080/"
        },
        "id": "cxYuzvrGliLd",
        "outputId": "049db3a1-861f-491d-d338-b2785a08fc67"
      },
      "source": [
        "get_prediction(\"I'd rather not do it again\")"
      ],
      "execution_count": null,
      "outputs": [
        {
          "output_type": "stream",
          "name": "stdout",
          "text": [
            "Output of the model: [[0.2500885]]\n",
            "Predicted sentimemt: negative.\n"
          ]
        }
      ]
    },
    {
      "cell_type": "code",
      "metadata": {
        "id": "wrZQfspclrbo"
      },
      "source": [
        ""
      ],
      "execution_count": null,
      "outputs": []
    }
  ]
}